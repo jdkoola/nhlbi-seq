{
 "cells": [
  {
   "cell_type": "markdown",
   "metadata": {},
   "source": [
    "# LSTM model\n",
    "### Predicts MIMIC-III ICU patient mortality given the first 24 hours"
   ]
  },
  {
   "cell_type": "code",
   "execution_count": 1,
   "metadata": {},
   "outputs": [
    {
     "ename": "ModuleNotFoundError",
     "evalue": "No module named 'keras'",
     "output_type": "error",
     "traceback": [
      "\u001b[0;31m---------------------------------------------------------------------------\u001b[0m",
      "\u001b[0;31mModuleNotFoundError\u001b[0m                       Traceback (most recent call last)",
      "\u001b[0;32m<ipython-input-1-82ccf7abc1e7>\u001b[0m in \u001b[0;36m<module>\u001b[0;34m\u001b[0m\n\u001b[0;32m----> 1\u001b[0;31m \u001b[0;32mfrom\u001b[0m \u001b[0mkeras\u001b[0m\u001b[0;34m.\u001b[0m\u001b[0mmodels\u001b[0m \u001b[0;32mimport\u001b[0m \u001b[0mSequential\u001b[0m\u001b[0;34m\u001b[0m\u001b[0;34m\u001b[0m\u001b[0m\n\u001b[0m\u001b[1;32m      2\u001b[0m \u001b[0;32mfrom\u001b[0m \u001b[0mkeras\u001b[0m\u001b[0;34m.\u001b[0m\u001b[0mlayers\u001b[0m \u001b[0;32mimport\u001b[0m \u001b[0mDense\u001b[0m\u001b[0;34m,\u001b[0m \u001b[0mLSTM\u001b[0m\u001b[0;34m,\u001b[0m \u001b[0mInput\u001b[0m\u001b[0;34m,\u001b[0m \u001b[0mActivation\u001b[0m\u001b[0;34m,\u001b[0m \u001b[0mDropout\u001b[0m\u001b[0;34m\u001b[0m\u001b[0;34m\u001b[0m\u001b[0m\n\u001b[1;32m      3\u001b[0m \u001b[0;32mfrom\u001b[0m \u001b[0mkeras\u001b[0m\u001b[0;34m.\u001b[0m\u001b[0mcallbacks\u001b[0m \u001b[0;32mimport\u001b[0m \u001b[0mEarlyStopping\u001b[0m\u001b[0;34m\u001b[0m\u001b[0;34m\u001b[0m\u001b[0m\n\u001b[1;32m      4\u001b[0m \u001b[0;32mfrom\u001b[0m \u001b[0msklearn\u001b[0m\u001b[0;34m.\u001b[0m\u001b[0mmodel_selection\u001b[0m \u001b[0;32mimport\u001b[0m \u001b[0mStratifiedKFold\u001b[0m\u001b[0;34m\u001b[0m\u001b[0;34m\u001b[0m\u001b[0m\n\u001b[1;32m      5\u001b[0m \u001b[0;32mfrom\u001b[0m \u001b[0msklearn\u001b[0m\u001b[0;34m.\u001b[0m\u001b[0mmetrics\u001b[0m \u001b[0;32mimport\u001b[0m \u001b[0mprecision_score\u001b[0m\u001b[0;34m,\u001b[0m \u001b[0mrecall_score\u001b[0m\u001b[0;34m,\u001b[0m \u001b[0mf1_score\u001b[0m\u001b[0;34m,\u001b[0m \u001b[0mauc\u001b[0m\u001b[0;34m,\u001b[0m \u001b[0mroc_curve\u001b[0m\u001b[0;34m,\u001b[0m \u001b[0mbrier_score_loss\u001b[0m\u001b[0;34m,\u001b[0m \u001b[0mprecision_recall_curve\u001b[0m\u001b[0;34m\u001b[0m\u001b[0;34m\u001b[0m\u001b[0m\n",
      "\u001b[0;31mModuleNotFoundError\u001b[0m: No module named 'keras'"
     ]
    }
   ],
   "source": [
    "from keras.models import Sequential\n",
    "from keras.layers import Dense, LSTM, Input, Activation, Dropout\n",
    "from keras.callbacks import EarlyStopping\n",
    "from sklearn.model_selection import StratifiedKFold\n",
    "from sklearn.metrics import precision_score, recall_score, f1_score, auc, roc_curve, brier_score_loss, precision_recall_curve\n",
    "\n",
    "import numpy as np\n",
    "import pandas as pd\n",
    "from collections import defaultdict\n",
    "\n",
    "from random import shuffle\n",
    "\n",
    "import matplotlib.pyplot as plt\n",
    "%matplotlib inline\n",
    "\n",
    "# fix random seed for reproducibility\n",
    "np.random.seed(7)"
   ]
  },
  {
   "cell_type": "code",
   "execution_count": 19,
   "metadata": {
    "collapsed": true
   },
   "outputs": [],
   "source": [
    "import sys\n",
    "sys.path.append('/usr/local/lib/python2.7/dist-packages/')\n",
    "\n",
    "import dbconfig as cfg\n",
    "from sqlalchemy import create_engine\n",
    "\n",
    "engine = create_engine('mysql+pymysql://{}:{}@{}:3306/mimic'.format(cfg.mysql['user'], cfg.mysql['password'],\n",
    "                                                                cfg.mysql['host']), echo=False)"
   ]
  },
  {
   "cell_type": "markdown",
   "metadata": {},
   "source": [
    "### Load data"
   ]
  },
  {
   "cell_type": "code",
   "execution_count": 20,
   "metadata": {
    "collapsed": true,
    "scrolled": true
   },
   "outputs": [],
   "source": [
    "mimic_df = pd.read_pickle('/home/andrea/data/mimic_timeseries_normalized')\n",
    "mimic_df = pd.get_dummies(mimic_df, columns=['ADMISSION_LOCATION', 'ADMISSION_TYPE'])\n",
    "label_col = mimic_df['HOSPITAL_EXPIRE_FLAG']\n",
    "del mimic_df['HOSPITAL_EXPIRE_FLAG']\n",
    "mimic_df['HOSPITAL_EXPIRE_FLAG'] = label_col\n",
    "# mimic_df.head()"
   ]
  },
  {
   "cell_type": "code",
   "execution_count": 21,
   "metadata": {},
   "outputs": [
    {
     "data": {
      "text/plain": [
       "array(['GENDER', 'AGE', 'lab_hemoglobin', 'lab_monocyte', 'lactate_dh',\n",
       "       'lab_eosinophil', 'lab_glucose', 'lab_ck', 'lab_basophils',\n",
       "       'troponin_t', 'sodium_whole_blood', 'art_dia', 'resp_pattern',\n",
       "       'bp_dia', 'chart_temp', 'glasgow_score', 'art_mean', 'bp_sys',\n",
       "       'art_sys', 'riker_sas', 'cvp', 'eye_open',\n",
       "       'ADMISSION_LOCATION_** INFO NOT AVAILABLE **',\n",
       "       'ADMISSION_LOCATION_CLINIC REFERRAL/PREMATURE',\n",
       "       'ADMISSION_LOCATION_EMERGENCY ROOM ADMIT',\n",
       "       'ADMISSION_LOCATION_HMO REFERRAL/SICK',\n",
       "       'ADMISSION_LOCATION_PHYS REFERRAL/NORMAL DELI',\n",
       "       'ADMISSION_LOCATION_TRANSFER FROM HOSP/EXTRAM',\n",
       "       'ADMISSION_LOCATION_TRANSFER FROM OTHER HEALT',\n",
       "       'ADMISSION_LOCATION_TRANSFER FROM SKILLED NUR',\n",
       "       'ADMISSION_LOCATION_TRSF WITHIN THIS FACILITY',\n",
       "       'ADMISSION_TYPE_ELECTIVE', 'ADMISSION_TYPE_EMERGENCY',\n",
       "       'ADMISSION_TYPE_URGENT', 'HOSPITAL_EXPIRE_FLAG'], dtype=object)"
      ]
     },
     "execution_count": 21,
     "metadata": {},
     "output_type": "execute_result"
    }
   ],
   "source": [
    "mimic_df.columns.values"
   ]
  },
  {
   "cell_type": "code",
   "execution_count": 22,
   "metadata": {
    "scrolled": false
   },
   "outputs": [
    {
     "data": {
      "text/html": [
       "<div>\n",
       "<style>\n",
       "    .dataframe thead tr:only-child th {\n",
       "        text-align: right;\n",
       "    }\n",
       "\n",
       "    .dataframe thead th {\n",
       "        text-align: left;\n",
       "    }\n",
       "\n",
       "    .dataframe tbody tr th {\n",
       "        vertical-align: top;\n",
       "    }\n",
       "</style>\n",
       "<table border=\"1\" class=\"dataframe\">\n",
       "  <thead>\n",
       "    <tr style=\"text-align: right;\">\n",
       "      <th></th>\n",
       "      <th>GENDER</th>\n",
       "      <th>AGE</th>\n",
       "      <th>lab_hemoglobin</th>\n",
       "      <th>lab_monocyte</th>\n",
       "      <th>lactate_dh</th>\n",
       "      <th>lab_eosinophil</th>\n",
       "      <th>lab_glucose</th>\n",
       "      <th>lab_ck</th>\n",
       "      <th>lab_basophils</th>\n",
       "      <th>troponin_t</th>\n",
       "      <th>...</th>\n",
       "      <th>ADMISSION_LOCATION_HMO REFERRAL/SICK</th>\n",
       "      <th>ADMISSION_LOCATION_PHYS REFERRAL/NORMAL DELI</th>\n",
       "      <th>ADMISSION_LOCATION_TRANSFER FROM HOSP/EXTRAM</th>\n",
       "      <th>ADMISSION_LOCATION_TRANSFER FROM OTHER HEALT</th>\n",
       "      <th>ADMISSION_LOCATION_TRANSFER FROM SKILLED NUR</th>\n",
       "      <th>ADMISSION_LOCATION_TRSF WITHIN THIS FACILITY</th>\n",
       "      <th>ADMISSION_TYPE_ELECTIVE</th>\n",
       "      <th>ADMISSION_TYPE_EMERGENCY</th>\n",
       "      <th>ADMISSION_TYPE_URGENT</th>\n",
       "      <th>HOSPITAL_EXPIRE_FLAG</th>\n",
       "    </tr>\n",
       "    <tr>\n",
       "      <th>SUBJECT_ID</th>\n",
       "      <th></th>\n",
       "      <th></th>\n",
       "      <th></th>\n",
       "      <th></th>\n",
       "      <th></th>\n",
       "      <th></th>\n",
       "      <th></th>\n",
       "      <th></th>\n",
       "      <th></th>\n",
       "      <th></th>\n",
       "      <th></th>\n",
       "      <th></th>\n",
       "      <th></th>\n",
       "      <th></th>\n",
       "      <th></th>\n",
       "      <th></th>\n",
       "      <th></th>\n",
       "      <th></th>\n",
       "      <th></th>\n",
       "      <th></th>\n",
       "      <th></th>\n",
       "    </tr>\n",
       "  </thead>\n",
       "  <tbody>\n",
       "    <tr>\n",
       "      <th>3</th>\n",
       "      <td>0</td>\n",
       "      <td>76</td>\n",
       "      <td>[0, 0, 0.0769230769231, 0, 0, 0, 0.07692307692...</td>\n",
       "      <td>[0, 0, 0, 0, 0, 0, 0, 0.0641025641026, 0, 0, 0...</td>\n",
       "      <td>[0, 0, 0, 0, 0, 0, 0, 0, 0, 0, 0, 0, 0, 0, 0, ...</td>\n",
       "      <td>[0, 0, 0, 0, 0, 0, 0, 0, 0, 0, 0, 0, 0, 0, 0, ...</td>\n",
       "      <td>[0, 0, 0, 0, 0, 0, 0, 0, 0.0322580645161, 0, 0...</td>\n",
       "      <td>[0.000296194093365, 0, 0, 0, 0, 0, 0, 0.001379...</td>\n",
       "      <td>[0, 0, 0, 0, 0, 0, 0, 0, 0, 0, 0, 0, 0, 0, 0, ...</td>\n",
       "      <td>[0, 0, 0, 0, 0, 0, 0, 0, 0, 0, 0, 0, 0, 0, 0, ...</td>\n",
       "      <td>...</td>\n",
       "      <td>0</td>\n",
       "      <td>0</td>\n",
       "      <td>0</td>\n",
       "      <td>0</td>\n",
       "      <td>0</td>\n",
       "      <td>0</td>\n",
       "      <td>0</td>\n",
       "      <td>1</td>\n",
       "      <td>0</td>\n",
       "      <td>0</td>\n",
       "    </tr>\n",
       "    <tr>\n",
       "      <th>4</th>\n",
       "      <td>1</td>\n",
       "      <td>47</td>\n",
       "      <td>[0, 0, 0, 0, 0, 0, 0, 0, 0, 0, 0, 0, 0, 0, 0, ...</td>\n",
       "      <td>[0, 0, 0, 0, 0, 0.025641025641, 0, 0, 0, 0, 0,...</td>\n",
       "      <td>[0, 0, 0, 0, 0, 0.00406604917852, 0, 0, 0, 0, ...</td>\n",
       "      <td>[0, 0, 0, 0, 0, 0, 0, 0, 0, 0, 0, 0, 0, 0, 0, ...</td>\n",
       "      <td>[0, 0, 0, 0, 0, 0, 0, 0, 0, 0, 0, 0, 0, 0, 0, ...</td>\n",
       "      <td>[0, 0, 0, 0, 0, 0, 0, 0, 0, 0, 0, 0, 0, 0, 0, ...</td>\n",
       "      <td>[0, 0, 0, 0, 0, 0, 0, 0, 0, 0, 0, 0, 0, 0, 0, ...</td>\n",
       "      <td>[0, 0, 0, 0, 0, 0, 0, 0, 0, 0, 0, 0, 0, 0, 0, ...</td>\n",
       "      <td>...</td>\n",
       "      <td>0</td>\n",
       "      <td>0</td>\n",
       "      <td>0</td>\n",
       "      <td>0</td>\n",
       "      <td>0</td>\n",
       "      <td>0</td>\n",
       "      <td>0</td>\n",
       "      <td>1</td>\n",
       "      <td>0</td>\n",
       "      <td>0</td>\n",
       "    </tr>\n",
       "    <tr>\n",
       "      <th>6</th>\n",
       "      <td>1</td>\n",
       "      <td>65</td>\n",
       "      <td>[0.0615384615385, 0, 0, 0.0615384615385, 0.069...</td>\n",
       "      <td>[0, 0, 0, 0, 0, 0, 0, 0, 0.0128205128205, 0, 0...</td>\n",
       "      <td>[0, 0, 0, 0, 0, 0, 0, 0, 0, 0, 0, 0, 0, 0, 0, ...</td>\n",
       "      <td>[0, 0, 0, 0, 0, 0, 0, 0, 0, 0, 0, 0, 0, 0, 0, ...</td>\n",
       "      <td>[0, 0, 0, 0, 0, 0, 0, 0, 0, 0, 0, 0, 0, 0, 0, ...</td>\n",
       "      <td>[0, 0, 0, 0, 0, 0, 0, 0, 0, 0, 0, 0, 0, 0, 0, ...</td>\n",
       "      <td>[0, 0, 0, 0, 0, 0, 0, 0, 0, 0, 0, 0, 0, 0, 0, ...</td>\n",
       "      <td>[0, 0, 0, 0, 0, 0, 0, 0, 0, 0, 0, 0, 0, 0, 0, ...</td>\n",
       "      <td>...</td>\n",
       "      <td>0</td>\n",
       "      <td>1</td>\n",
       "      <td>0</td>\n",
       "      <td>0</td>\n",
       "      <td>0</td>\n",
       "      <td>0</td>\n",
       "      <td>1</td>\n",
       "      <td>0</td>\n",
       "      <td>0</td>\n",
       "      <td>0</td>\n",
       "    </tr>\n",
       "    <tr>\n",
       "      <th>9</th>\n",
       "      <td>0</td>\n",
       "      <td>41</td>\n",
       "      <td>[0, 0, 0, 0, 0.107692307692, 0, 0, 0, 0, 0, 0,...</td>\n",
       "      <td>[0, 0, 0, 0, 0, 0, 0, 0, 0, 0, 0, 0, 0, 0, 0, ...</td>\n",
       "      <td>[0, 0, 0, 0, 0, 0, 0, 0, 0, 0, 0, 0, 0, 0, 0, ...</td>\n",
       "      <td>[0, 0, 0, 0, 0, 0, 0, 0, 0, 0, 0, 0, 0, 0, 0, ...</td>\n",
       "      <td>[0, 0, 0, 0, 0, 0, 0, 0, 0, 0, 0, 0, 0, 0, 0, ...</td>\n",
       "      <td>[0, 0, 0, 0, 0, 0, 0, 0, 0, 0, 0, 0, 0, 0, 0, ...</td>\n",
       "      <td>[0, 0, 0, 0, 0, 0, 0, 0, 0, 0, 0, 0, 0, 0, 0, ...</td>\n",
       "      <td>[0, 0, 0, 0, 0, 0, 0, 0, 0, 0, 0, 0, 0, 0, 0, ...</td>\n",
       "      <td>...</td>\n",
       "      <td>0</td>\n",
       "      <td>0</td>\n",
       "      <td>0</td>\n",
       "      <td>0</td>\n",
       "      <td>0</td>\n",
       "      <td>0</td>\n",
       "      <td>0</td>\n",
       "      <td>1</td>\n",
       "      <td>0</td>\n",
       "      <td>1</td>\n",
       "    </tr>\n",
       "    <tr>\n",
       "      <th>11</th>\n",
       "      <td>1</td>\n",
       "      <td>50</td>\n",
       "      <td>[0, 0, 0, 0, 0, 0, 0, 0, 0, 0, 0, 0, 0, 0, 0, ...</td>\n",
       "      <td>[0, 0, 0, 0, 0, 0, 0, 0, 0, 0, 0, 0, 0, 0, 0, ...</td>\n",
       "      <td>[0, 0, 0, 0, 0, 0, 0, 0, 0, 0, 0, 0, 0, 0, 0, ...</td>\n",
       "      <td>[0, 0, 0, 0, 0, 0, 0, 0, 0, 0, 0, 0, 0, 0, 0, ...</td>\n",
       "      <td>[0, 0, 0, 0, 0, 0, 0, 0, 0, 0, 0, 0, 0, 0, 0, ...</td>\n",
       "      <td>[0, 0, 0, 0, 0, 0, 0, 0, 0, 0, 0, 0, 0, 0, 0, ...</td>\n",
       "      <td>[0, 0, 0, 0, 0, 0, 0, 0, 0, 0, 0, 0, 0, 0, 0, ...</td>\n",
       "      <td>[0, 0, 0, 0, 0, 0, 0, 0, 0, 0, 0, 0, 0, 0, 0, ...</td>\n",
       "      <td>...</td>\n",
       "      <td>0</td>\n",
       "      <td>0</td>\n",
       "      <td>0</td>\n",
       "      <td>0</td>\n",
       "      <td>0</td>\n",
       "      <td>0</td>\n",
       "      <td>0</td>\n",
       "      <td>1</td>\n",
       "      <td>0</td>\n",
       "      <td>0</td>\n",
       "    </tr>\n",
       "  </tbody>\n",
       "</table>\n",
       "<p>5 rows × 35 columns</p>\n",
       "</div>"
      ],
      "text/plain": [
       "            GENDER  AGE                                     lab_hemoglobin  \\\n",
       "SUBJECT_ID                                                                   \n",
       "3                0   76  [0, 0, 0.0769230769231, 0, 0, 0, 0.07692307692...   \n",
       "4                1   47  [0, 0, 0, 0, 0, 0, 0, 0, 0, 0, 0, 0, 0, 0, 0, ...   \n",
       "6                1   65  [0.0615384615385, 0, 0, 0.0615384615385, 0.069...   \n",
       "9                0   41  [0, 0, 0, 0, 0.107692307692, 0, 0, 0, 0, 0, 0,...   \n",
       "11               1   50  [0, 0, 0, 0, 0, 0, 0, 0, 0, 0, 0, 0, 0, 0, 0, ...   \n",
       "\n",
       "                                                 lab_monocyte  \\\n",
       "SUBJECT_ID                                                      \n",
       "3           [0, 0, 0, 0, 0, 0, 0, 0.0641025641026, 0, 0, 0...   \n",
       "4           [0, 0, 0, 0, 0, 0.025641025641, 0, 0, 0, 0, 0,...   \n",
       "6           [0, 0, 0, 0, 0, 0, 0, 0, 0.0128205128205, 0, 0...   \n",
       "9           [0, 0, 0, 0, 0, 0, 0, 0, 0, 0, 0, 0, 0, 0, 0, ...   \n",
       "11          [0, 0, 0, 0, 0, 0, 0, 0, 0, 0, 0, 0, 0, 0, 0, ...   \n",
       "\n",
       "                                                   lactate_dh  \\\n",
       "SUBJECT_ID                                                      \n",
       "3           [0, 0, 0, 0, 0, 0, 0, 0, 0, 0, 0, 0, 0, 0, 0, ...   \n",
       "4           [0, 0, 0, 0, 0, 0.00406604917852, 0, 0, 0, 0, ...   \n",
       "6           [0, 0, 0, 0, 0, 0, 0, 0, 0, 0, 0, 0, 0, 0, 0, ...   \n",
       "9           [0, 0, 0, 0, 0, 0, 0, 0, 0, 0, 0, 0, 0, 0, 0, ...   \n",
       "11          [0, 0, 0, 0, 0, 0, 0, 0, 0, 0, 0, 0, 0, 0, 0, ...   \n",
       "\n",
       "                                               lab_eosinophil  \\\n",
       "SUBJECT_ID                                                      \n",
       "3           [0, 0, 0, 0, 0, 0, 0, 0, 0, 0, 0, 0, 0, 0, 0, ...   \n",
       "4           [0, 0, 0, 0, 0, 0, 0, 0, 0, 0, 0, 0, 0, 0, 0, ...   \n",
       "6           [0, 0, 0, 0, 0, 0, 0, 0, 0, 0, 0, 0, 0, 0, 0, ...   \n",
       "9           [0, 0, 0, 0, 0, 0, 0, 0, 0, 0, 0, 0, 0, 0, 0, ...   \n",
       "11          [0, 0, 0, 0, 0, 0, 0, 0, 0, 0, 0, 0, 0, 0, 0, ...   \n",
       "\n",
       "                                                  lab_glucose  \\\n",
       "SUBJECT_ID                                                      \n",
       "3           [0, 0, 0, 0, 0, 0, 0, 0, 0.0322580645161, 0, 0...   \n",
       "4           [0, 0, 0, 0, 0, 0, 0, 0, 0, 0, 0, 0, 0, 0, 0, ...   \n",
       "6           [0, 0, 0, 0, 0, 0, 0, 0, 0, 0, 0, 0, 0, 0, 0, ...   \n",
       "9           [0, 0, 0, 0, 0, 0, 0, 0, 0, 0, 0, 0, 0, 0, 0, ...   \n",
       "11          [0, 0, 0, 0, 0, 0, 0, 0, 0, 0, 0, 0, 0, 0, 0, ...   \n",
       "\n",
       "                                                       lab_ck  \\\n",
       "SUBJECT_ID                                                      \n",
       "3           [0.000296194093365, 0, 0, 0, 0, 0, 0, 0.001379...   \n",
       "4           [0, 0, 0, 0, 0, 0, 0, 0, 0, 0, 0, 0, 0, 0, 0, ...   \n",
       "6           [0, 0, 0, 0, 0, 0, 0, 0, 0, 0, 0, 0, 0, 0, 0, ...   \n",
       "9           [0, 0, 0, 0, 0, 0, 0, 0, 0, 0, 0, 0, 0, 0, 0, ...   \n",
       "11          [0, 0, 0, 0, 0, 0, 0, 0, 0, 0, 0, 0, 0, 0, 0, ...   \n",
       "\n",
       "                                                lab_basophils  \\\n",
       "SUBJECT_ID                                                      \n",
       "3           [0, 0, 0, 0, 0, 0, 0, 0, 0, 0, 0, 0, 0, 0, 0, ...   \n",
       "4           [0, 0, 0, 0, 0, 0, 0, 0, 0, 0, 0, 0, 0, 0, 0, ...   \n",
       "6           [0, 0, 0, 0, 0, 0, 0, 0, 0, 0, 0, 0, 0, 0, 0, ...   \n",
       "9           [0, 0, 0, 0, 0, 0, 0, 0, 0, 0, 0, 0, 0, 0, 0, ...   \n",
       "11          [0, 0, 0, 0, 0, 0, 0, 0, 0, 0, 0, 0, 0, 0, 0, ...   \n",
       "\n",
       "                                                   troponin_t  \\\n",
       "SUBJECT_ID                                                      \n",
       "3           [0, 0, 0, 0, 0, 0, 0, 0, 0, 0, 0, 0, 0, 0, 0, ...   \n",
       "4           [0, 0, 0, 0, 0, 0, 0, 0, 0, 0, 0, 0, 0, 0, 0, ...   \n",
       "6           [0, 0, 0, 0, 0, 0, 0, 0, 0, 0, 0, 0, 0, 0, 0, ...   \n",
       "9           [0, 0, 0, 0, 0, 0, 0, 0, 0, 0, 0, 0, 0, 0, 0, ...   \n",
       "11          [0, 0, 0, 0, 0, 0, 0, 0, 0, 0, 0, 0, 0, 0, 0, ...   \n",
       "\n",
       "                   ...          ADMISSION_LOCATION_HMO REFERRAL/SICK  \\\n",
       "SUBJECT_ID         ...                                                 \n",
       "3                  ...                                             0   \n",
       "4                  ...                                             0   \n",
       "6                  ...                                             0   \n",
       "9                  ...                                             0   \n",
       "11                 ...                                             0   \n",
       "\n",
       "           ADMISSION_LOCATION_PHYS REFERRAL/NORMAL DELI  \\\n",
       "SUBJECT_ID                                                \n",
       "3                                                     0   \n",
       "4                                                     0   \n",
       "6                                                     1   \n",
       "9                                                     0   \n",
       "11                                                    0   \n",
       "\n",
       "           ADMISSION_LOCATION_TRANSFER FROM HOSP/EXTRAM  \\\n",
       "SUBJECT_ID                                                \n",
       "3                                                     0   \n",
       "4                                                     0   \n",
       "6                                                     0   \n",
       "9                                                     0   \n",
       "11                                                    0   \n",
       "\n",
       "           ADMISSION_LOCATION_TRANSFER FROM OTHER HEALT  \\\n",
       "SUBJECT_ID                                                \n",
       "3                                                     0   \n",
       "4                                                     0   \n",
       "6                                                     0   \n",
       "9                                                     0   \n",
       "11                                                    0   \n",
       "\n",
       "           ADMISSION_LOCATION_TRANSFER FROM SKILLED NUR  \\\n",
       "SUBJECT_ID                                                \n",
       "3                                                     0   \n",
       "4                                                     0   \n",
       "6                                                     0   \n",
       "9                                                     0   \n",
       "11                                                    0   \n",
       "\n",
       "           ADMISSION_LOCATION_TRSF WITHIN THIS FACILITY  \\\n",
       "SUBJECT_ID                                                \n",
       "3                                                     0   \n",
       "4                                                     0   \n",
       "6                                                     0   \n",
       "9                                                     0   \n",
       "11                                                    0   \n",
       "\n",
       "           ADMISSION_TYPE_ELECTIVE ADMISSION_TYPE_EMERGENCY  \\\n",
       "SUBJECT_ID                                                    \n",
       "3                                0                        1   \n",
       "4                                0                        1   \n",
       "6                                1                        0   \n",
       "9                                0                        1   \n",
       "11                               0                        1   \n",
       "\n",
       "           ADMISSION_TYPE_URGENT HOSPITAL_EXPIRE_FLAG  \n",
       "SUBJECT_ID                                             \n",
       "3                              0                    0  \n",
       "4                              0                    0  \n",
       "6                              0                    0  \n",
       "9                              0                    1  \n",
       "11                             0                    0  \n",
       "\n",
       "[5 rows x 35 columns]"
      ]
     },
     "execution_count": 22,
     "metadata": {},
     "output_type": "execute_result"
    }
   ],
   "source": [
    "# binarize gender\n",
    "d = {'GENDER': {'M': 0, 'F': 1}}\n",
    "mimic_df.replace(d, inplace=True)\n",
    "mimic_df.head()"
   ]
  },
  {
   "cell_type": "markdown",
   "metadata": {},
   "source": [
    "### Shuffle and split data into train/test datasets"
   ]
  },
  {
   "cell_type": "code",
   "execution_count": 23,
   "metadata": {
    "collapsed": true
   },
   "outputs": [],
   "source": [
    "def shuffle_split(l, train=0.8, test=0.1, val=0.1):\n",
    "    shuffle(l)\n",
    "    if val == 0:\n",
    "        train = 0.7\n",
    "    train_index = int(len(l)*train)\n",
    "    test_index = train_index + int(len(l)*test)\n",
    "    if val == 0:\n",
    "        return l[:train_index], l[train_index:]\n",
    "    return l[:train_index], l[train_index:test_index], l[test_index:]"
   ]
  },
  {
   "cell_type": "code",
   "execution_count": 24,
   "metadata": {
    "collapsed": true
   },
   "outputs": [],
   "source": [
    "# expert defined ranges (low, high)\n",
    "range_dict = {\n",
    "    'temp': (97.8, 99.0),\n",
    "    'temp_aux': (97.4, 98.7), #auxillary/armpit, (F)\n",
    "    'temp_rectal': (98.3, 100.0), \n",
    "    'bp_sys': (120.0,180.0),   #mmHg\n",
    "    'bp_dia': (80.0, 120.0),   #mmHg\n",
    "    'cvp': (3.0, 8.0),         #\n",
    "    'resp': (16.0, 20.0),      #rate\n",
    "    'art_sys': (20.0, 119.0),  #mmHg\n",
    "    'art_dia': (60.0, 79.0),   #mmHg\n",
    "     \n",
    "    'lab_ck_male': (52.0, 336.0),  #U/L\n",
    "    'lab_ck_female': (38.0,176.0), #U/L\n",
    "    'lab_glucose': (70.0, 100.0),  #mg/dL\n",
    "    'lab_monocyte': (2.0, 10.0),   #percent\n",
    "    'lab_eosinophil': (1.0, 6.0),  #percent\n",
    "    'lab_basophils': (0.01, 2.0),#percent\n",
    "#     'lab_neutrohils': (40.0,80.0), #percent\n",
    "    'lab_lymphocytes': (20.0,40.0),#percent\n",
    "    'lab_hemoglobin_female': (12.0, 17.5),  #g/dL\n",
    "    'lab_hemoglobin_male': (13.5, 17.5),   #g/dL\n",
    "    'lactate_dh': (140.0, 280.0), #U/L\n",
    "    'sodium_whole_blood': (135.0, 145.0), #mEq/L\n",
    "    'troponin_t': (0, 0.01) #ng/mL\n",
    "}"
   ]
  },
  {
   "cell_type": "code",
   "execution_count": 26,
   "metadata": {
    "collapsed": true
   },
   "outputs": [],
   "source": [
    "def zip_timeseries(df):\n",
    "    l = []\n",
    "    for patient in df.index.values:\n",
    "        z = []\n",
    "        temp = zip(#df.get_value(patient, 'lab_temp'), \n",
    "                    df.get_value(patient, 'lab_ck'), \n",
    "                    df.get_value(patient, 'lab_monocyte'), \n",
    "                    df.get_value(patient, 'lab_glucose'), \n",
    "                    df.get_value(patient, 'lab_eosinophil'),\n",
    "                    df.get_value(patient, 'lab_basophils'),\n",
    "                    #df.get_value(patient, 'lab_lymphocytes'),\n",
    "                    df.get_value(patient, 'lab_hemoglobin'),\n",
    "                    df.get_value(patient, 'lactate_dh'),\n",
    "                    df.get_value(patient, 'sodium_whole_blood'),\n",
    "                    df.get_value(patient, 'troponin_t'),\n",
    "                    df.get_value(patient, 'bp_sys'), \n",
    "                    df.get_value(patient, 'bp_dia'), \n",
    "                    df.get_value(patient, 'cvp'), \n",
    "                    df.get_value(patient, 'art_mean'),\n",
    "                    df.get_value(patient, 'art_sys'),\n",
    "                    df.get_value(patient, 'art_dia'),\n",
    "#                     df.get_value(patient, 'riker_sas'),\n",
    "#                     df.get_value(patient, 'resp_pattern'),\n",
    "#                     df.get_value(patient, 'eye_open'),\n",
    "#                     df.get_value(patient, 'glasgow_score'),\n",
    "#                     df.get_value(patient, 'abp_low'),\n",
    "#                     df.get_value(patient, 'abp_high'),\n",
    "                    df.get_value(patient, 'chart_temp')\n",
    "#                     [df.get_value(patient, 'GENDER')]*24, \n",
    "#                     [df.get_value(patient, 'AGE')]*24\n",
    "                  )\n",
    "        for timeseries in temp:\n",
    "            z.append(timeseries)\n",
    "        l.append(z)\n",
    "    return l"
   ]
  },
  {
   "cell_type": "code",
   "execution_count": 27,
   "metadata": {},
   "outputs": [
    {
     "name": "stderr",
     "output_type": "stream",
     "text": [
      "/usr/local/lib/python3.5/dist-packages/ipykernel_launcher.py:4: DeprecationWarning: \n",
      ".ix is deprecated. Please use\n",
      ".loc for label based indexing or\n",
      ".iloc for positional indexing\n",
      "\n",
      "See the documentation here:\n",
      "http://pandas.pydata.org/pandas-docs/stable/indexing.html#ix-indexer-is-deprecated\n",
      "  after removing the cwd from sys.path.\n"
     ]
    },
    {
     "name": "stdout",
     "output_type": "stream",
     "text": [
      "30838 observations in the training data\n",
      "3854 observations in the test data\n",
      "3856 observations in the validation data\n"
     ]
    }
   ],
   "source": [
    "patient_list = mimic_df.index.values\n",
    "train, test, val = shuffle_split(patient_list)\n",
    "\n",
    "train_df = mimic_df.ix[train]\n",
    "test_df = mimic_df.ix[test]\n",
    "val_df = mimic_df.ix[val]\n",
    "\n",
    "X_train = np.array(zip_timeseries(train_df))\n",
    "X_test = np.array(zip_timeseries(test_df))\n",
    "X_val = np.array(zip_timeseries(val_df))\n",
    "\n",
    "features = train_df.columns[:-1]\n",
    "\n",
    "y_train = train_df['HOSPITAL_EXPIRE_FLAG'].values\n",
    "y_test = test_df['HOSPITAL_EXPIRE_FLAG'].values\n",
    "y_val = val_df['HOSPITAL_EXPIRE_FLAG'].values\n",
    "\n",
    "y_train = y_train.reshape(len(y_train), 1)\n",
    "y_test = y_test.reshape(len(y_test), 1)\n",
    "y_val = y_val.reshape(len(y_val), 1)\n",
    "\n",
    "# total data/labels set for cross-validation\n",
    "X = np.array(zip_timeseries(mimic_df[features]))\n",
    "y = mimic_df['HOSPITAL_EXPIRE_FLAG'].values\n",
    "\n",
    "print('{} observations in the training data'.format(len(train_df.index.values)))\n",
    "print('{} observations in the test data'.format(len(test_df.index.values)))\n",
    "print('{} observations in the validation data'.format(len(val_df.index.values)))"
   ]
  },
  {
   "cell_type": "markdown",
   "metadata": {},
   "source": [
    "### Manual k-fold Cross-Validation of LSTM Model"
   ]
  },
  {
   "cell_type": "code",
   "execution_count": null,
   "metadata": {
    "collapsed": true
   },
   "outputs": [],
   "source": [
    "nb_epoch = 10\n",
    "batch_size = 32\n",
    "wait_until_stop = 5 # number of epochs with no improvement to early stop\n",
    "stop_monitor = 'loss'\n",
    "k = 10"
   ]
  },
  {
   "cell_type": "code",
   "execution_count": null,
   "metadata": {
    "collapsed": true
   },
   "outputs": [],
   "source": [
    "def round_predictions(preds):\n",
    "    rounded_predictions = []\n",
    "    for pred in preds:\n",
    "        if pred < 0.5:\n",
    "            rounded_predictions.append(0)\n",
    "        elif pred >= 0.5:\n",
    "            rounded_predictions.append(1)\n",
    "    return rounded_predictions"
   ]
  },
  {
   "cell_type": "code",
   "execution_count": null,
   "metadata": {
    "collapsed": true,
    "scrolled": true
   },
   "outputs": [],
   "source": [
    "kfold = StratifiedKFold(n_splits=k, shuffle=True, random_state=7)\n",
    "acc_scores = []\n",
    "auc_vals = []\n",
    "# precision_vals = []\n",
    "# recall_vals = []\n",
    "# f1_vals = []\n",
    "pred_vals = []\n",
    "true_vals = []\n",
    "run_ids = []\n",
    "\n",
    "fpr_vals = []\n",
    "tpr_vals = []\n",
    "thresholds = []\n",
    "\n",
    "dropout = 0.0\n",
    "\n",
    "count = 1\n",
    "for train, test in kfold.split(X, y):\n",
    "    print('Fold {} out of {}'.format(count, k))\n",
    "    \n",
    "    model = Sequential()\n",
    "    model.add(LSTM(128, dropout_W=dropout, dropout_U=dropout, \n",
    "                   input_shape=(X_train.shape[1], X_train.shape[2]), return_sequences=True))\n",
    "    model.add(LSTM(64, dropout_W=dropout, dropout_U=dropout))\n",
    "    model.add(Dense(1, activation='sigmoid'))\n",
    "    \n",
    "    model.compile(loss='binary_crossentropy', optimizer='adam', metrics=['acc'], batch_size=batch_size)\n",
    "    early_stop = EarlyStopping(monitor=stop_monitor, patience=wait_until_stop, mode='auto')\n",
    "    model.fit(X[train], y[train], nb_epoch=nb_epoch, batch_size=batch_size, verbose=1, callbacks=[early_stop])\n",
    "    \n",
    "    # evaluate\n",
    "    preds = model.predict(X[test])\n",
    "    pred_vals.append(preds)\n",
    "    \n",
    "    y_true = pd.Series(np.squeeze(y[test]))\n",
    "    true_vals.append(y_true)\n",
    "    \n",
    "#     y_pred = pd.Series(round_predictions(preds))\n",
    "#     precision_vals.append(precision_score(y_true=y_true, y_pred=y_pred))\n",
    "#     recall_vals.append(recall_score(y_true=y_true, y_pred=y_pred))\n",
    "#     f1_vals.append(f1_score(y_true=y_true, y_pred=y_pred))\n",
    "    \n",
    "    fpr, tpr, threshold = roc_curve(y[test], preds)\n",
    "    fpr_vals.append(fpr)\n",
    "    tpr_vals.append(tpr)\n",
    "    thresholds.append(threshold)\n",
    "    \n",
    "    auc_vals.append(auc(fpr, tpr))\n",
    "    \n",
    "    scores = model.evaluate(X[test], y[test], verbose=0)\n",
    "    print('Accuracy: {:.3f}'.format(scores[1]*100))\n",
    "    acc_scores.append(scores[1]*100)\n",
    "    run_id = 'no_dropout_high_param, fold={}'.format(count)\n",
    "    run_ids.append([run_id]*len(preds))\n",
    "    count += 1\n",
    "print('{:.3f} +/- {:.3f}'.format(np.mean(acc_scores), np.std(acc_scores)))"
   ]
  },
  {
   "cell_type": "code",
   "execution_count": null,
   "metadata": {
    "collapsed": true
   },
   "outputs": [],
   "source": [
    "def flatten(l, f=True):\n",
    "    if f:\n",
    "        return [float(item) for sublist in l for item in sublist]\n",
    "    else:\n",
    "        return [item for sublist in l for item in sublist]"
   ]
  },
  {
   "cell_type": "code",
   "execution_count": null,
   "metadata": {
    "collapsed": true
   },
   "outputs": [],
   "source": [
    "results_df = pd.DataFrame()\n",
    "results_df['pred_val'] = flatten(pred_vals)\n",
    "results_df['true_label'] = flatten(true_vals)\n",
    "results_df['run_ids'] = flatten(run_ids, f=False)\n",
    "results_df.head()"
   ]
  },
  {
   "cell_type": "code",
   "execution_count": 29,
   "metadata": {},
   "outputs": [
    {
     "name": "stdout",
     "output_type": "stream",
     "text": [
      "____________________________________________________________________________________________________\n",
      "Layer (type)                     Output Shape          Param #     Connected to                     \n",
      "====================================================================================================\n",
      "lstm_2 (LSTM)                    (None, 32)            6272        lstm_input_2[0][0]               \n",
      "____________________________________________________________________________________________________\n",
      "dense_2 (Dense)                  (None, 1)             33          lstm_2[0][0]                     \n",
      "====================================================================================================\n",
      "Total params: 6,305\n",
      "Trainable params: 6,305\n",
      "Non-trainable params: 0\n",
      "____________________________________________________________________________________________________\n",
      "None\n"
     ]
    }
   ],
   "source": [
    "model = Sequential()\n",
    "model.add(LSTM(32, dropout_W=0.4, dropout_U=0.4, \n",
    "               input_shape=(X_train.shape[1], X_train.shape[2]), return_sequences=False))\n",
    "# model.add(LSTM(16, dropout_W=0.4, dropout_U=0.4))\n",
    "model.add(Dense(1, activation='sigmoid'))\n",
    "\n",
    "model.compile(loss = 'binary_crossentropy', optimizer='adam', metrics=['acc'])\n",
    "print(model.summary())"
   ]
  },
  {
   "cell_type": "code",
   "execution_count": null,
   "metadata": {
    "collapsed": true
   },
   "outputs": [],
   "source": [
    "# early_stop = EarlyStopping(monitor=stop_monitor, patience=wait_until_stop, mode='auto')\n",
    "# history = model.fit(X_train, y_train, validation_data=(X_val, y_val), nb_epoch=nb_epoch, callbacks=[early_stop])\n",
    "\n",
    "# # plot progress\n",
    "# f, (ax1, ax2) = plt.subplots(1, 2, sharey=False, sharex=True, figsize=(16, 6))\n",
    "# ax1.plot(history.history['loss'], label='train')\n",
    "# ax1.plot(history.history['val_loss'], label='val')\n",
    "# ax1.set_title('Train/val loss per epoch')\n",
    "# ax1.legend()\n",
    "\n",
    "# ax2.plot(history.history['acc'], label='train')\n",
    "# ax2.plot(history.history['val_acc'], label='val')\n",
    "# ax2.set_title('Train/val accuracy per epoch')\n",
    "# ax2.legend()\n",
    "# plt.show()"
   ]
  },
  {
   "cell_type": "markdown",
   "metadata": {},
   "source": [
    "### Evaluate LSTM model"
   ]
  },
  {
   "cell_type": "code",
   "execution_count": 15,
   "metadata": {
    "collapsed": true
   },
   "outputs": [],
   "source": [
    "def evaluate(table):\n",
    "    results_df = pd.read_sql_table(table, con=engine)\n",
    "    n_folds = set(results_df.run_ids.values)\n",
    "\n",
    "    auc_vals = []\n",
    "    brier_scores = []\n",
    "    aucprc_vals = []\n",
    "\n",
    "    for fold in n_folds:\n",
    "        temp_df = results_df.loc[results_df['run_ids']==fold]\n",
    "        pred_vals = temp_df.pred_val.values\n",
    "        true_vals = temp_df.true_label.values\n",
    "        fpr, tpr, threshold = roc_curve(true_vals, pred_vals)\n",
    "        auc_vals.append(auc(fpr,tpr))\n",
    "        brier_scores.append(brier_score_loss(true_vals,pred_vals))\n",
    "        aucprc_vals.append(precision_recall_curve(true_vals,pred_vals))\n",
    "\n",
    "    return np.mean(auc_vals), np.mean(brier_scores), np.mean(aucprc_vals)"
   ]
  },
  {
   "cell_type": "code",
   "execution_count": 17,
   "metadata": {},
   "outputs": [
    {
     "name": "stdout",
     "output_type": "stream",
     "text": [
      "lstm_dropout_high_param_results\n"
     ]
    },
    {
     "ename": "ValueError",
     "evalue": "operands could not be broadcast together with shapes (3385,) (3384,) ",
     "output_type": "error",
     "traceback": [
      "\u001b[0;31m---------------------------------------------------------------------------\u001b[0m",
      "\u001b[0;31mValueError\u001b[0m                                Traceback (most recent call last)",
      "\u001b[0;32m<ipython-input-17-e6c9a785c69d>\u001b[0m in \u001b[0;36m<module>\u001b[0;34m()\u001b[0m\n\u001b[1;32m      2\u001b[0m \u001b[0;32mfor\u001b[0m \u001b[0mtable\u001b[0m \u001b[0;32min\u001b[0m \u001b[0mtables\u001b[0m\u001b[0;34m:\u001b[0m\u001b[0;34m\u001b[0m\u001b[0m\n\u001b[1;32m      3\u001b[0m     \u001b[0mprint\u001b[0m\u001b[0;34m(\u001b[0m\u001b[0mtable\u001b[0m\u001b[0;34m)\u001b[0m\u001b[0;34m\u001b[0m\u001b[0m\n\u001b[0;32m----> 4\u001b[0;31m     \u001b[0ma\u001b[0m\u001b[0;34m,\u001b[0m\u001b[0mb\u001b[0m\u001b[0;34m,\u001b[0m\u001b[0mc\u001b[0m \u001b[0;34m=\u001b[0m \u001b[0mevaluate\u001b[0m\u001b[0;34m(\u001b[0m\u001b[0mtable\u001b[0m\u001b[0;34m)\u001b[0m\u001b[0;34m\u001b[0m\u001b[0m\n\u001b[0m\u001b[1;32m      5\u001b[0m     \u001b[0mprint\u001b[0m\u001b[0;34m(\u001b[0m\u001b[0;34m'avg AUCROC: {:.4f}, avg Brier score: {:.4f}, avg AUCPRC\\n'\u001b[0m\u001b[0;34m.\u001b[0m\u001b[0mformat\u001b[0m\u001b[0;34m(\u001b[0m\u001b[0ma\u001b[0m\u001b[0;34m,\u001b[0m\u001b[0mb\u001b[0m\u001b[0;34m,\u001b[0m\u001b[0mc\u001b[0m\u001b[0;34m)\u001b[0m\u001b[0;34m)\u001b[0m\u001b[0;34m\u001b[0m\u001b[0m\n",
      "\u001b[0;32m<ipython-input-15-b863f0777a7c>\u001b[0m in \u001b[0;36mevaluate\u001b[0;34m(table)\u001b[0m\n\u001b[1;32m     16\u001b[0m         \u001b[0maucprc_vals\u001b[0m\u001b[0;34m.\u001b[0m\u001b[0mappend\u001b[0m\u001b[0;34m(\u001b[0m\u001b[0mprecision_recall_curve\u001b[0m\u001b[0;34m(\u001b[0m\u001b[0mtrue_vals\u001b[0m\u001b[0;34m,\u001b[0m\u001b[0mpred_vals\u001b[0m\u001b[0;34m)\u001b[0m\u001b[0;34m)\u001b[0m\u001b[0;34m\u001b[0m\u001b[0m\n\u001b[1;32m     17\u001b[0m \u001b[0;34m\u001b[0m\u001b[0m\n\u001b[0;32m---> 18\u001b[0;31m     \u001b[0;32mreturn\u001b[0m \u001b[0;34m(\u001b[0m\u001b[0mnp\u001b[0m\u001b[0;34m.\u001b[0m\u001b[0mmean\u001b[0m\u001b[0;34m(\u001b[0m\u001b[0mauc_vals\u001b[0m\u001b[0;34m)\u001b[0m\u001b[0;34m,\u001b[0m \u001b[0mnp\u001b[0m\u001b[0;34m.\u001b[0m\u001b[0mmean\u001b[0m\u001b[0;34m(\u001b[0m\u001b[0mbrier_scores\u001b[0m\u001b[0;34m)\u001b[0m\u001b[0;34m,\u001b[0m \u001b[0mnp\u001b[0m\u001b[0;34m.\u001b[0m\u001b[0mmean\u001b[0m\u001b[0;34m(\u001b[0m\u001b[0maucprc_vals\u001b[0m\u001b[0;34m)\u001b[0m\u001b[0;34m)\u001b[0m\u001b[0;34m\u001b[0m\u001b[0m\n\u001b[0m",
      "\u001b[0;32m/usr/local/lib/python3.5/dist-packages/numpy/core/fromnumeric.py\u001b[0m in \u001b[0;36mmean\u001b[0;34m(a, axis, dtype, out, keepdims)\u001b[0m\n\u001b[1;32m   2907\u001b[0m \u001b[0;34m\u001b[0m\u001b[0m\n\u001b[1;32m   2908\u001b[0m     return _methods._mean(a, axis=axis, dtype=dtype,\n\u001b[0;32m-> 2909\u001b[0;31m                           out=out, **kwargs)\n\u001b[0m\u001b[1;32m   2910\u001b[0m \u001b[0;34m\u001b[0m\u001b[0m\n\u001b[1;32m   2911\u001b[0m \u001b[0;34m\u001b[0m\u001b[0m\n",
      "\u001b[0;32m/usr/local/lib/python3.5/dist-packages/numpy/core/_methods.py\u001b[0m in \u001b[0;36m_mean\u001b[0;34m(a, axis, dtype, out, keepdims)\u001b[0m\n\u001b[1;32m     68\u001b[0m             \u001b[0mis_float16_result\u001b[0m \u001b[0;34m=\u001b[0m \u001b[0;32mTrue\u001b[0m\u001b[0;34m\u001b[0m\u001b[0m\n\u001b[1;32m     69\u001b[0m \u001b[0;34m\u001b[0m\u001b[0m\n\u001b[0;32m---> 70\u001b[0;31m     \u001b[0mret\u001b[0m \u001b[0;34m=\u001b[0m \u001b[0mumr_sum\u001b[0m\u001b[0;34m(\u001b[0m\u001b[0marr\u001b[0m\u001b[0;34m,\u001b[0m \u001b[0maxis\u001b[0m\u001b[0;34m,\u001b[0m \u001b[0mdtype\u001b[0m\u001b[0;34m,\u001b[0m \u001b[0mout\u001b[0m\u001b[0;34m,\u001b[0m \u001b[0mkeepdims\u001b[0m\u001b[0;34m)\u001b[0m\u001b[0;34m\u001b[0m\u001b[0m\n\u001b[0m\u001b[1;32m     71\u001b[0m     \u001b[0;32mif\u001b[0m \u001b[0misinstance\u001b[0m\u001b[0;34m(\u001b[0m\u001b[0mret\u001b[0m\u001b[0;34m,\u001b[0m \u001b[0mmu\u001b[0m\u001b[0;34m.\u001b[0m\u001b[0mndarray\u001b[0m\u001b[0;34m)\u001b[0m\u001b[0;34m:\u001b[0m\u001b[0;34m\u001b[0m\u001b[0m\n\u001b[1;32m     72\u001b[0m         ret = um.true_divide(\n",
      "\u001b[0;31mValueError\u001b[0m: operands could not be broadcast together with shapes (3385,) (3384,) "
     ]
    }
   ],
   "source": [
    "tables = ['lstm_dropout_high_param_results', 'lstm_dropout_results', 'lstm_no_dropout_high_param_results', 'lstm_no_dropout_results']\n",
    "for table in tables:\n",
    "    print(table)\n",
    "    a,b,c = evaluate(table)\n",
    "    print('avg AUCROC: {:.4f}, avg Brier score: {:.4f}, avg AUCPRC\\n'.format(a,b,c))"
   ]
  },
  {
   "cell_type": "code",
   "execution_count": null,
   "metadata": {
    "collapsed": true
   },
   "outputs": [],
   "source": [
    "# best model is lstm_dropout_results\n"
   ]
  },
  {
   "cell_type": "code",
   "execution_count": null,
   "metadata": {
    "collapsed": true
   },
   "outputs": [],
   "source": [
    "# score = model.evaluate(X_test, y_test, batch_size=batch_size, verbose=0)\n",
    "# # print('{}: {}, {}: {}').format(model.metrics_names[0], score[0], model.metrics_names[1], score[1])\n",
    "# print('Accuracy: {:.3f}%'.format(score[1]*100))"
   ]
  },
  {
   "cell_type": "code",
   "execution_count": null,
   "metadata": {
    "collapsed": true
   },
   "outputs": [],
   "source": [
    "# print('Precision: {:0.4f}'.format(precision_score(y_true=y_true, y_pred=y_pred)))\n",
    "# print('Recall: {:0.4f}'.format(recall_score(y_true=y_true, y_pred=y_pred)))\n",
    "# print('F1 score: {:0.4f}'.format(f1_score(y_true=y_true, y_pred=y_pred)))"
   ]
  },
  {
   "cell_type": "code",
   "execution_count": null,
   "metadata": {
    "collapsed": true
   },
   "outputs": [],
   "source": [
    "# # best/worst auc\n",
    "# worst_index = auc_vals.index(min(auc_vals))\n",
    "# best_index = auc_vals.index(max(auc_vals))\n",
    "\n",
    "# plt.figure(figsize=(8,7))\n",
    "# plt.title('ROC with Dropout')\n",
    "# plt.plot(fpr_vals[worst_index], tpr_vals[worst_index], 'b', label = 'AUC = %0.2f' % auc_vals[worst_index])\n",
    "# plt.plot(fpr_vals[best_index], tpr_vals[best_index], 'r', label = 'AUC = %0.2f' % auc_vals[best_index])\n",
    "# plt.legend(loc = 'lower right')\n",
    "# plt.plot([0, 1], [0, 1],'k--')\n",
    "# plt.xlim([0, 1])\n",
    "# plt.ylim([0, 1])\n",
    "# plt.ylabel('True Positive Rate')\n",
    "# plt.xlabel('False Positive Rate')\n",
    "# plt.show()"
   ]
  },
  {
   "cell_type": "markdown",
   "metadata": {
    "collapsed": true
   },
   "source": [
    "### Write results to RDS "
   ]
  },
  {
   "cell_type": "code",
   "execution_count": null,
   "metadata": {
    "collapsed": true
   },
   "outputs": [],
   "source": [
    "results_df.to_sql(name='lstm_no_dropout_high_param_results', con=engine, index=False, if_exists='append')"
   ]
  },
  {
   "cell_type": "code",
   "execution_count": null,
   "metadata": {
    "collapsed": true
   },
   "outputs": [],
   "source": []
  }
 ],
 "metadata": {
  "kernelspec": {
   "display_name": "Python 3",
   "language": "python",
   "name": "python3"
  },
  "language_info": {
   "codemirror_mode": {
    "name": "ipython",
    "version": 3
   },
   "file_extension": ".py",
   "mimetype": "text/x-python",
   "name": "python",
   "nbconvert_exporter": "python",
   "pygments_lexer": "ipython3",
   "version": "3.7.1"
  }
 },
 "nbformat": 4,
 "nbformat_minor": 2
}
