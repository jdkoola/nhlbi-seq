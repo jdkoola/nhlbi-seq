{
 "cells": [
  {
   "cell_type": "markdown",
   "metadata": {},
   "source": [
    "# Random forest baseline implementation\n",
    "### Predicts MIMIC-III ICU patient mortality given the first 24 hours"
   ]
  },
  {
   "cell_type": "code",
   "execution_count": 7,
   "metadata": {
    "collapsed": true
   },
   "outputs": [],
   "source": [
    "from sklearn.ensemble import RandomForestClassifier\n",
    "from sklearn.metrics import accuracy_score, f1_score, recall_score, precision_score, confusion_matrix, roc_curve, auc, brier_score_loss\n",
    "from sklearn.model_selection import StratifiedKFold\n",
    "\n",
    "import pandas as pd\n",
    "import numpy as np\n",
    "\n",
    "import sys\n",
    "sys.path.append('/usr/local/lib/python2.7/dist-packages/')\n",
    "\n",
    "from random import shuffle\n",
    "np.random.seed(7)"
   ]
  },
  {
   "cell_type": "code",
   "execution_count": 3,
   "metadata": {
    "collapsed": true
   },
   "outputs": [],
   "source": [
    "import sys\n",
    "sys.path.append('/usr/local/lib/python2.7/dist-packages/')\n",
    "\n",
    "import dbconfig as cfg\n",
    "from sqlalchemy import create_engine\n",
    "\n",
    "engine = create_engine('mysql+pymysql://{}:{}@{}:3306/mimic'.format(cfg.mysql['user'], cfg.mysql['password'],\n",
    "                                                                cfg.mysql['host']), echo=False)"
   ]
  },
  {
   "cell_type": "markdown",
   "metadata": {},
   "source": [
    "### Load data"
   ]
  },
  {
   "cell_type": "code",
   "execution_count": 40,
   "metadata": {
    "scrolled": true
   },
   "outputs": [
    {
     "data": {
      "text/html": [
       "<div>\n",
       "<style>\n",
       "    .dataframe thead tr:only-child th {\n",
       "        text-align: right;\n",
       "    }\n",
       "\n",
       "    .dataframe thead th {\n",
       "        text-align: left;\n",
       "    }\n",
       "\n",
       "    .dataframe tbody tr th {\n",
       "        vertical-align: top;\n",
       "    }\n",
       "</style>\n",
       "<table border=\"1\" class=\"dataframe\">\n",
       "  <thead>\n",
       "    <tr style=\"text-align: right;\">\n",
       "      <th></th>\n",
       "      <th>lab_hemoglobin</th>\n",
       "      <th>lab_monocyte</th>\n",
       "      <th>lactate_dh</th>\n",
       "      <th>lab_eosinophil</th>\n",
       "      <th>lab_glucose</th>\n",
       "      <th>lab_ck</th>\n",
       "      <th>lab_basophils</th>\n",
       "      <th>troponin_t</th>\n",
       "      <th>sodium_whole_blood</th>\n",
       "      <th>art_dia</th>\n",
       "      <th>resp_pattern</th>\n",
       "      <th>bp_dia</th>\n",
       "      <th>chart_temp</th>\n",
       "      <th>art_mean</th>\n",
       "      <th>bp_sys</th>\n",
       "      <th>art_sys</th>\n",
       "      <th>cvp</th>\n",
       "      <th>HOSPITAL_EXPIRE_FLAG</th>\n",
       "    </tr>\n",
       "    <tr>\n",
       "      <th>SUBJECT_ID</th>\n",
       "      <th></th>\n",
       "      <th></th>\n",
       "      <th></th>\n",
       "      <th></th>\n",
       "      <th></th>\n",
       "      <th></th>\n",
       "      <th></th>\n",
       "      <th></th>\n",
       "      <th></th>\n",
       "      <th></th>\n",
       "      <th></th>\n",
       "      <th></th>\n",
       "      <th></th>\n",
       "      <th></th>\n",
       "      <th></th>\n",
       "      <th></th>\n",
       "      <th></th>\n",
       "      <th></th>\n",
       "    </tr>\n",
       "  </thead>\n",
       "  <tbody>\n",
       "    <tr>\n",
       "      <th>3</th>\n",
       "      <td>0.0769231</td>\n",
       "      <td>0.0641026</td>\n",
       "      <td>-0.000482413</td>\n",
       "      <td>0</td>\n",
       "      <td>0.0322581</td>\n",
       "      <td>0.000836092</td>\n",
       "      <td>0</td>\n",
       "      <td>-0.000334448</td>\n",
       "      <td>0.781145</td>\n",
       "      <td>0.000171725</td>\n",
       "      <td>0</td>\n",
       "      <td>0</td>\n",
       "      <td>0.889908</td>\n",
       "      <td>0</td>\n",
       "      <td>0</td>\n",
       "      <td>0.0260664</td>\n",
       "      <td>0.22</td>\n",
       "      <td>0</td>\n",
       "    </tr>\n",
       "    <tr>\n",
       "      <th>4</th>\n",
       "      <td>0</td>\n",
       "      <td>0.025641</td>\n",
       "      <td>0.00406605</td>\n",
       "      <td>0</td>\n",
       "      <td>-0.0752688</td>\n",
       "      <td>-1.12479e-05</td>\n",
       "      <td>0</td>\n",
       "      <td>-0.000334448</td>\n",
       "      <td>-0.0213244</td>\n",
       "      <td>0.000171725</td>\n",
       "      <td>0</td>\n",
       "      <td>0</td>\n",
       "      <td>0.899083</td>\n",
       "      <td>0</td>\n",
       "      <td>0</td>\n",
       "      <td>0.0260664</td>\n",
       "      <td>0</td>\n",
       "      <td>0</td>\n",
       "    </tr>\n",
       "    <tr>\n",
       "      <th>6</th>\n",
       "      <td>0.0692308</td>\n",
       "      <td>0.0128205</td>\n",
       "      <td>-0.000482413</td>\n",
       "      <td>0</td>\n",
       "      <td>-0.0752688</td>\n",
       "      <td>-1.12479e-05</td>\n",
       "      <td>0</td>\n",
       "      <td>-0.000334448</td>\n",
       "      <td>0.736251</td>\n",
       "      <td>0.000171725</td>\n",
       "      <td>0</td>\n",
       "      <td>0</td>\n",
       "      <td>0.889908</td>\n",
       "      <td>0</td>\n",
       "      <td>0</td>\n",
       "      <td>0.0260664</td>\n",
       "      <td>0.24</td>\n",
       "      <td>0</td>\n",
       "    </tr>\n",
       "    <tr>\n",
       "      <th>9</th>\n",
       "      <td>0.107692</td>\n",
       "      <td>0</td>\n",
       "      <td>-0.000482413</td>\n",
       "      <td>0</td>\n",
       "      <td>-0.0752688</td>\n",
       "      <td>-1.12479e-05</td>\n",
       "      <td>0</td>\n",
       "      <td>-0.000334448</td>\n",
       "      <td>0.753086</td>\n",
       "      <td>0.000171725</td>\n",
       "      <td>0</td>\n",
       "      <td>0</td>\n",
       "      <td>0.899083</td>\n",
       "      <td>0</td>\n",
       "      <td>0</td>\n",
       "      <td>0.0260664</td>\n",
       "      <td>0</td>\n",
       "      <td>1</td>\n",
       "    </tr>\n",
       "    <tr>\n",
       "      <th>11</th>\n",
       "      <td>0</td>\n",
       "      <td>0</td>\n",
       "      <td>-0.000482413</td>\n",
       "      <td>0</td>\n",
       "      <td>-0.0752688</td>\n",
       "      <td>-1.12479e-05</td>\n",
       "      <td>0</td>\n",
       "      <td>-0.000334448</td>\n",
       "      <td>-0.0213244</td>\n",
       "      <td>0.000171725</td>\n",
       "      <td>0</td>\n",
       "      <td>0</td>\n",
       "      <td>0.899083</td>\n",
       "      <td>0</td>\n",
       "      <td>0</td>\n",
       "      <td>0.0260664</td>\n",
       "      <td>0</td>\n",
       "      <td>0</td>\n",
       "    </tr>\n",
       "  </tbody>\n",
       "</table>\n",
       "</div>"
      ],
      "text/plain": [
       "           lab_hemoglobin lab_monocyte   lactate_dh lab_eosinophil  \\\n",
       "SUBJECT_ID                                                           \n",
       "3               0.0769231    0.0641026 -0.000482413              0   \n",
       "4                       0     0.025641   0.00406605              0   \n",
       "6               0.0692308    0.0128205 -0.000482413              0   \n",
       "9                0.107692            0 -0.000482413              0   \n",
       "11                      0            0 -0.000482413              0   \n",
       "\n",
       "           lab_glucose       lab_ck lab_basophils   troponin_t  \\\n",
       "SUBJECT_ID                                                       \n",
       "3            0.0322581  0.000836092             0 -0.000334448   \n",
       "4           -0.0752688 -1.12479e-05             0 -0.000334448   \n",
       "6           -0.0752688 -1.12479e-05             0 -0.000334448   \n",
       "9           -0.0752688 -1.12479e-05             0 -0.000334448   \n",
       "11          -0.0752688 -1.12479e-05             0 -0.000334448   \n",
       "\n",
       "           sodium_whole_blood      art_dia resp_pattern bp_dia chart_temp  \\\n",
       "SUBJECT_ID                                                                  \n",
       "3                    0.781145  0.000171725            0      0   0.889908   \n",
       "4                  -0.0213244  0.000171725            0      0   0.899083   \n",
       "6                    0.736251  0.000171725            0      0   0.889908   \n",
       "9                    0.753086  0.000171725            0      0   0.899083   \n",
       "11                 -0.0213244  0.000171725            0      0   0.899083   \n",
       "\n",
       "           art_mean bp_sys    art_sys   cvp  HOSPITAL_EXPIRE_FLAG  \n",
       "SUBJECT_ID                                                         \n",
       "3                 0      0  0.0260664  0.22                     0  \n",
       "4                 0      0  0.0260664     0                     0  \n",
       "6                 0      0  0.0260664  0.24                     0  \n",
       "9                 0      0  0.0260664     0                     1  \n",
       "11                0      0  0.0260664     0                     0  "
      ]
     },
     "execution_count": 40,
     "metadata": {},
     "output_type": "execute_result"
    }
   ],
   "source": [
    "mimic_df = pd.read_pickle('/home/andrea/data/mimic_nontimeseries_normalized')\n",
    "# mimic_df = pd.get_dummies(mimic_df, columns=['GENDER', 'ADMISSION_LOCATION', 'ADMISSION_TYPE'])\n",
    "label_col = mimic_df['HOSPITAL_EXPIRE_FLAG']\n",
    "del mimic_df['HOSPITAL_EXPIRE_FLAG']\n",
    "del mimic_df['AGE']\n",
    "del mimic_df['GENDER']\n",
    "del mimic_df['ADMISSION_LOCATION']\n",
    "del mimic_df['ADMISSION_TYPE']\n",
    "del mimic_df['glasgow_score']\n",
    "del mimic_df['riker_sas']\n",
    "del mimic_df['eye_open']\n",
    "mimic_df['HOSPITAL_EXPIRE_FLAG'] = label_col\n",
    "mimic_df.head()"
   ]
  },
  {
   "cell_type": "markdown",
   "metadata": {},
   "source": [
    "### Shuffle and split data into train and test sets"
   ]
  },
  {
   "cell_type": "code",
   "execution_count": 41,
   "metadata": {
    "collapsed": true
   },
   "outputs": [],
   "source": [
    "def shuffle_split(l, train=0.6, test=0.2, val=0.2):\n",
    "    shuffle(l)\n",
    "    if val == 0:\n",
    "        train = 0.7\n",
    "    train_index = int(len(l)*train)\n",
    "    test_index = train_index + int(len(l)*test)\n",
    "    if val == 0:\n",
    "        return l[:train_index], l[train_index:]\n",
    "    return l[:train_index], l[train_index:test_index], l[test_index:]"
   ]
  },
  {
   "cell_type": "code",
   "execution_count": 42,
   "metadata": {
    "collapsed": true
   },
   "outputs": [],
   "source": [
    "patient_list = mimic_df.index.values\n",
    "\n",
    "features = mimic_df.columns[1:-1]\n",
    "total_input = mimic_df[features].as_matrix()\n",
    "total_labels = mimic_df['HOSPITAL_EXPIRE_FLAG'].values\n",
    "\n",
    "# train, test = shuffle_split(patient_list, train=0.8, test=0.2, val=0)\n",
    "# train, test = shuffle_split(patient_list, val=0)\n",
    "\n",
    "# train_df = mimic_df.ix[train]\n",
    "# test_df = mimic_df.ix[test]\n",
    "\n",
    "\n",
    "# X_train = train_df.as_matrix()\n",
    "# X_test = test_df.as_matrix()\n",
    "\n",
    "# y_train = train_df['HOSPITAL_EXPIRE_FLAG'].values\n",
    "# y_test = test_df['HOSPITAL_EXPIRE_FLAG'].values\n",
    "\n",
    "\n",
    "# print('{} observations in the training data'.format(len(X_train)))\n",
    "# print('{} observations in the test data'.format(len(X_test)))"
   ]
  },
  {
   "cell_type": "markdown",
   "metadata": {},
   "source": [
    "### Initialize random forest classifier,  fit, and obtain predictions"
   ]
  },
  {
   "cell_type": "code",
   "execution_count": 43,
   "metadata": {
    "collapsed": true
   },
   "outputs": [],
   "source": [
    "k = 10\n",
    "clf = RandomForestClassifier(n_estimators=50, random_state=7)"
   ]
  },
  {
   "cell_type": "code",
   "execution_count": 44,
   "metadata": {
    "collapsed": true
   },
   "outputs": [],
   "source": [
    "kfold = StratifiedKFold(n_splits=k, shuffle=True, random_state=7)\n",
    "\n",
    "pred_vals = []\n",
    "true_labels = []\n",
    "run_ids = []\n",
    "\n",
    "fpr_vals = []\n",
    "tpr_vals = []\n",
    "thresholds = []\n",
    "auc_vals = []\n",
    "\n",
    "count = 1\n",
    "for train, test in kfold.split(total_input, total_labels):\n",
    "    proba = clf.fit(total_input[train], total_labels[train]).predict_proba(total_input[test])\n",
    "    \n",
    "    pred_vals.append(proba)\n",
    "    true_labels.append(total_labels[test])\n",
    "    run_ids.append([count]*len(proba))\n",
    "    \n",
    "#     print \n",
    "    \n",
    "#     fpr, tpr, threshold = roc_curve(total_labels[test], proba)\n",
    "#     fpr_vals.append(fpr)\n",
    "#     tpr_vals.append(tpr)\n",
    "#     thresholds.append(threshold)\n",
    "    \n",
    "    count += 1\n",
    "#     accuracies.append(accuracy_score(y_pred=proba, y_true=total_labels[testcv]))\n",
    "    \n",
    "\n",
    "# scores = cross_validate(clf, total_input, total_labels, \n",
    "#                         scoring=scoring, cv=10, \n",
    "#                         return_train_score=False)"
   ]
  },
  {
   "cell_type": "code",
   "execution_count": 28,
   "metadata": {
    "collapsed": true
   },
   "outputs": [],
   "source": [
    "# print('Mean test accuracy: {}'.format(np.mean(scores['test_accuracy'])))\n",
    "# print('Mean test f1 score: {}'.format(np.mean(scores['test_f1_macro'])))\n",
    "# print('Mean test precision: {}'.format(np.mean(scores['test_precision_macro'])))\n",
    "# print('Mean test recall: {}'.format(np.mean(scores['test_recall_macro'])))"
   ]
  },
  {
   "cell_type": "code",
   "execution_count": 29,
   "metadata": {
    "collapsed": true
   },
   "outputs": [],
   "source": [
    "def flatten(l):\n",
    "    return [item for sublist in l for item in sublist]        "
   ]
  },
  {
   "cell_type": "code",
   "execution_count": 45,
   "metadata": {},
   "outputs": [
    {
     "data": {
      "text/html": [
       "<div>\n",
       "<style>\n",
       "    .dataframe thead tr:only-child th {\n",
       "        text-align: right;\n",
       "    }\n",
       "\n",
       "    .dataframe thead th {\n",
       "        text-align: left;\n",
       "    }\n",
       "\n",
       "    .dataframe tbody tr th {\n",
       "        vertical-align: top;\n",
       "    }\n",
       "</style>\n",
       "<table border=\"1\" class=\"dataframe\">\n",
       "  <thead>\n",
       "    <tr style=\"text-align: right;\">\n",
       "      <th></th>\n",
       "      <th>0_prob</th>\n",
       "      <th>1_prob</th>\n",
       "      <th>true_label</th>\n",
       "      <th>run_ids</th>\n",
       "    </tr>\n",
       "  </thead>\n",
       "  <tbody>\n",
       "    <tr>\n",
       "      <th>0</th>\n",
       "      <td>1.000000</td>\n",
       "      <td>0.000000</td>\n",
       "      <td>0</td>\n",
       "      <td>1</td>\n",
       "    </tr>\n",
       "    <tr>\n",
       "      <th>1</th>\n",
       "      <td>0.121192</td>\n",
       "      <td>0.878808</td>\n",
       "      <td>0</td>\n",
       "      <td>1</td>\n",
       "    </tr>\n",
       "    <tr>\n",
       "      <th>2</th>\n",
       "      <td>1.000000</td>\n",
       "      <td>0.000000</td>\n",
       "      <td>0</td>\n",
       "      <td>1</td>\n",
       "    </tr>\n",
       "    <tr>\n",
       "      <th>3</th>\n",
       "      <td>1.000000</td>\n",
       "      <td>0.000000</td>\n",
       "      <td>0</td>\n",
       "      <td>1</td>\n",
       "    </tr>\n",
       "    <tr>\n",
       "      <th>4</th>\n",
       "      <td>1.000000</td>\n",
       "      <td>0.000000</td>\n",
       "      <td>0</td>\n",
       "      <td>1</td>\n",
       "    </tr>\n",
       "  </tbody>\n",
       "</table>\n",
       "</div>"
      ],
      "text/plain": [
       "     0_prob    1_prob  true_label  run_ids\n",
       "0  1.000000  0.000000           0        1\n",
       "1  0.121192  0.878808           0        1\n",
       "2  1.000000  0.000000           0        1\n",
       "3  1.000000  0.000000           0        1\n",
       "4  1.000000  0.000000           0        1"
      ]
     },
     "execution_count": 45,
     "metadata": {},
     "output_type": "execute_result"
    }
   ],
   "source": [
    "results_df = pd.DataFrame()\n",
    "results_df['0_prob'] = [x[0] for x in flatten(pred_vals)]\n",
    "results_df['1_prob'] = [x[1] for x in flatten(pred_vals)]\n",
    "results_df['true_label'] = flatten(true_labels)\n",
    "results_df['run_ids'] = flatten(run_ids)\n",
    "results_df.head()"
   ]
  },
  {
   "cell_type": "code",
   "execution_count": 21,
   "metadata": {
    "collapsed": true
   },
   "outputs": [],
   "source": [
    "# zero_predictions = [x[0] for x in proba]\n",
    "# rounded_predictions = []\n",
    "# for pred in zero_predictions:\n",
    "#     if pred < 0.5:\n",
    "#         rounded_predictions.append(1)\n",
    "#     elif pred >= 0.5:\n",
    "#         rounded_predictions.append(0)"
   ]
  },
  {
   "cell_type": "code",
   "execution_count": 15,
   "metadata": {
    "collapsed": true
   },
   "outputs": [],
   "source": [
    "# y_true = pd.Series(np.squeeze(true_labels[-1]))\n",
    "# y_pred = pd.Series(rounded_predictions)\n",
    "# pd.crosstab(y_true, y_pred, rownames=['True value'], colnames=['Predicted value'])"
   ]
  },
  {
   "cell_type": "code",
   "execution_count": 16,
   "metadata": {
    "collapsed": true
   },
   "outputs": [],
   "source": [
    "# print('Precision: {:0.4f}'.format(precision_score(y_true=y_true, y_pred=y_pred)))\n",
    "# print('Recall: {:0.4f}'.format(recall_score(y_true=y_true, y_pred=y_pred)))\n",
    "# print('F1 score: {:0.4f}'.format(f1_score(y_true=y_true, y_pred=y_pred)))\n"
   ]
  },
  {
   "cell_type": "markdown",
   "metadata": {
    "collapsed": true
   },
   "source": [
    "### Write results to RDS "
   ]
  },
  {
   "cell_type": "code",
   "execution_count": 18,
   "metadata": {
    "collapsed": true
   },
   "outputs": [],
   "source": []
  },
  {
   "cell_type": "code",
   "execution_count": 19,
   "metadata": {
    "collapsed": true
   },
   "outputs": [],
   "source": []
  },
  {
   "cell_type": "code",
   "execution_count": 47,
   "metadata": {
    "collapsed": true
   },
   "outputs": [],
   "source": [
    "results_df.to_sql(name='random_forest_cv_results', if_exists='replace',con=engine, index=False)"
   ]
  },
  {
   "cell_type": "markdown",
   "metadata": {},
   "source": [
    "### Model evaluation"
   ]
  },
  {
   "cell_type": "code",
   "execution_count": 50,
   "metadata": {},
   "outputs": [
    {
     "name": "stdout",
     "output_type": "stream",
     "text": [
      "avg AUC: 0.6607, avg Brier score: 0.1012\n"
     ]
    }
   ],
   "source": [
    "# results_df = pd.read_sql_table('random_forest_cv_results', con=engine)\n",
    "n_folds = set(results_df.run_ids.values)\n",
    "\n",
    "auc_vals = []\n",
    "brier_scores = []\n",
    "\n",
    "for fold in n_folds:\n",
    "    temp_df = results_df.loc[results_df['run_ids']==fold]\n",
    "    pred_vals = temp_df['1_prob'].values\n",
    "    true_vals = temp_df.true_label.values\n",
    "    fpr, tpr, threshold = roc_curve(true_vals, pred_vals)\n",
    "    auc_vals.append(auc(fpr,tpr))\n",
    "    brier_scores.append(brier_score_loss(true_vals,pred_vals))\n",
    "\n",
    "print('avg AUC: {:.4f}, avg Brier score: {:.4f}'.format(np.mean(auc_vals), np.mean(brier_scores)))"
   ]
  },
  {
   "cell_type": "code",
   "execution_count": null,
   "metadata": {
    "collapsed": true
   },
   "outputs": [],
   "source": []
  },
  {
   "cell_type": "code",
   "execution_count": null,
   "metadata": {
    "collapsed": true
   },
   "outputs": [],
   "source": []
  },
  {
   "cell_type": "code",
   "execution_count": 33,
   "metadata": {},
   "outputs": [
    {
     "data": {
      "text/plain": [
       "array([[0.064102564102564097, -0.0004824126144007057, 0.0, ..., 0, 0.22, 1],\n",
       "       [0.02564102564102564, 0.0040660491785202337, 0.0, ..., 0, 0.0, 4],\n",
       "       [0.01282051282051282, -0.0004824126144007057, 0.0, ..., 0,\n",
       "        0.23999999999999999, 4],\n",
       "       ..., \n",
       "       [0.0, -0.0004824126144007057, 0.0, ..., 0, 0.0, 0],\n",
       "       [0.0, 0.0031012239497188224, 0.0, ..., 0, 0.0, 0],\n",
       "       [0.0, -0.0004824126144007057, 0.0, ..., 0, 0.0, 0]], dtype=object)"
      ]
     },
     "execution_count": 33,
     "metadata": {},
     "output_type": "execute_result"
    }
   ],
   "source": [
    "total_input"
   ]
  },
  {
   "cell_type": "markdown",
   "metadata": {},
   "source": [
    "### Top 5 feature importance"
   ]
  },
  {
   "cell_type": "code",
   "execution_count": 32,
   "metadata": {},
   "outputs": [
    {
     "ename": "KeyError",
     "evalue": "\"Index(['glasgow_score'], dtype='object') not in index\"",
     "output_type": "error",
     "traceback": [
      "\u001b[0;31m---------------------------------------------------------------------------\u001b[0m",
      "\u001b[0;31mKeyError\u001b[0m                                  Traceback (most recent call last)",
      "\u001b[0;32m<ipython-input-32-0226105445e1>\u001b[0m in \u001b[0;36m<module>\u001b[0;34m()\u001b[0m\n\u001b[0;32m----> 1\u001b[0;31m sorted(list(zip(mimic_df[features], clf.feature_importances_)), \n\u001b[0m\u001b[1;32m      2\u001b[0m        key=lambda x :x[1], reverse=True)[:5]\n",
      "\u001b[0;32m/usr/local/lib/python3.5/dist-packages/pandas/core/frame.py\u001b[0m in \u001b[0;36m__getitem__\u001b[0;34m(self, key)\u001b[0m\n\u001b[1;32m   1956\u001b[0m         \u001b[0;32mif\u001b[0m \u001b[0misinstance\u001b[0m\u001b[0;34m(\u001b[0m\u001b[0mkey\u001b[0m\u001b[0;34m,\u001b[0m \u001b[0;34m(\u001b[0m\u001b[0mSeries\u001b[0m\u001b[0;34m,\u001b[0m \u001b[0mnp\u001b[0m\u001b[0;34m.\u001b[0m\u001b[0mndarray\u001b[0m\u001b[0;34m,\u001b[0m \u001b[0mIndex\u001b[0m\u001b[0;34m,\u001b[0m \u001b[0mlist\u001b[0m\u001b[0;34m)\u001b[0m\u001b[0;34m)\u001b[0m\u001b[0;34m:\u001b[0m\u001b[0;34m\u001b[0m\u001b[0m\n\u001b[1;32m   1957\u001b[0m             \u001b[0;31m# either boolean or fancy integer index\u001b[0m\u001b[0;34m\u001b[0m\u001b[0;34m\u001b[0m\u001b[0m\n\u001b[0;32m-> 1958\u001b[0;31m             \u001b[0;32mreturn\u001b[0m \u001b[0mself\u001b[0m\u001b[0;34m.\u001b[0m\u001b[0m_getitem_array\u001b[0m\u001b[0;34m(\u001b[0m\u001b[0mkey\u001b[0m\u001b[0;34m)\u001b[0m\u001b[0;34m\u001b[0m\u001b[0m\n\u001b[0m\u001b[1;32m   1959\u001b[0m         \u001b[0;32melif\u001b[0m \u001b[0misinstance\u001b[0m\u001b[0;34m(\u001b[0m\u001b[0mkey\u001b[0m\u001b[0;34m,\u001b[0m \u001b[0mDataFrame\u001b[0m\u001b[0;34m)\u001b[0m\u001b[0;34m:\u001b[0m\u001b[0;34m\u001b[0m\u001b[0m\n\u001b[1;32m   1960\u001b[0m             \u001b[0;32mreturn\u001b[0m \u001b[0mself\u001b[0m\u001b[0;34m.\u001b[0m\u001b[0m_getitem_frame\u001b[0m\u001b[0;34m(\u001b[0m\u001b[0mkey\u001b[0m\u001b[0;34m)\u001b[0m\u001b[0;34m\u001b[0m\u001b[0m\n",
      "\u001b[0;32m/usr/local/lib/python3.5/dist-packages/pandas/core/frame.py\u001b[0m in \u001b[0;36m_getitem_array\u001b[0;34m(self, key)\u001b[0m\n\u001b[1;32m   2000\u001b[0m             \u001b[0;32mreturn\u001b[0m \u001b[0mself\u001b[0m\u001b[0;34m.\u001b[0m\u001b[0mtake\u001b[0m\u001b[0;34m(\u001b[0m\u001b[0mindexer\u001b[0m\u001b[0;34m,\u001b[0m \u001b[0maxis\u001b[0m\u001b[0;34m=\u001b[0m\u001b[0;36m0\u001b[0m\u001b[0;34m,\u001b[0m \u001b[0mconvert\u001b[0m\u001b[0;34m=\u001b[0m\u001b[0;32mFalse\u001b[0m\u001b[0;34m)\u001b[0m\u001b[0;34m\u001b[0m\u001b[0m\n\u001b[1;32m   2001\u001b[0m         \u001b[0;32melse\u001b[0m\u001b[0;34m:\u001b[0m\u001b[0;34m\u001b[0m\u001b[0m\n\u001b[0;32m-> 2002\u001b[0;31m             \u001b[0mindexer\u001b[0m \u001b[0;34m=\u001b[0m \u001b[0mself\u001b[0m\u001b[0;34m.\u001b[0m\u001b[0mloc\u001b[0m\u001b[0;34m.\u001b[0m\u001b[0m_convert_to_indexer\u001b[0m\u001b[0;34m(\u001b[0m\u001b[0mkey\u001b[0m\u001b[0;34m,\u001b[0m \u001b[0maxis\u001b[0m\u001b[0;34m=\u001b[0m\u001b[0;36m1\u001b[0m\u001b[0;34m)\u001b[0m\u001b[0;34m\u001b[0m\u001b[0m\n\u001b[0m\u001b[1;32m   2003\u001b[0m             \u001b[0;32mreturn\u001b[0m \u001b[0mself\u001b[0m\u001b[0;34m.\u001b[0m\u001b[0mtake\u001b[0m\u001b[0;34m(\u001b[0m\u001b[0mindexer\u001b[0m\u001b[0;34m,\u001b[0m \u001b[0maxis\u001b[0m\u001b[0;34m=\u001b[0m\u001b[0;36m1\u001b[0m\u001b[0;34m,\u001b[0m \u001b[0mconvert\u001b[0m\u001b[0;34m=\u001b[0m\u001b[0;32mTrue\u001b[0m\u001b[0;34m)\u001b[0m\u001b[0;34m\u001b[0m\u001b[0m\n\u001b[1;32m   2004\u001b[0m \u001b[0;34m\u001b[0m\u001b[0m\n",
      "\u001b[0;32m/usr/local/lib/python3.5/dist-packages/pandas/core/indexing.py\u001b[0m in \u001b[0;36m_convert_to_indexer\u001b[0;34m(self, obj, axis, is_setter)\u001b[0m\n\u001b[1;32m   1229\u001b[0m                 \u001b[0mmask\u001b[0m \u001b[0;34m=\u001b[0m \u001b[0mcheck\u001b[0m \u001b[0;34m==\u001b[0m \u001b[0;34m-\u001b[0m\u001b[0;36m1\u001b[0m\u001b[0;34m\u001b[0m\u001b[0m\n\u001b[1;32m   1230\u001b[0m                 \u001b[0;32mif\u001b[0m \u001b[0mmask\u001b[0m\u001b[0;34m.\u001b[0m\u001b[0many\u001b[0m\u001b[0;34m(\u001b[0m\u001b[0;34m)\u001b[0m\u001b[0;34m:\u001b[0m\u001b[0;34m\u001b[0m\u001b[0m\n\u001b[0;32m-> 1231\u001b[0;31m                     \u001b[0;32mraise\u001b[0m \u001b[0mKeyError\u001b[0m\u001b[0;34m(\u001b[0m\u001b[0;34m'%s not in index'\u001b[0m \u001b[0;34m%\u001b[0m \u001b[0mobjarr\u001b[0m\u001b[0;34m[\u001b[0m\u001b[0mmask\u001b[0m\u001b[0;34m]\u001b[0m\u001b[0;34m)\u001b[0m\u001b[0;34m\u001b[0m\u001b[0m\n\u001b[0m\u001b[1;32m   1232\u001b[0m \u001b[0;34m\u001b[0m\u001b[0m\n\u001b[1;32m   1233\u001b[0m                 \u001b[0;32mreturn\u001b[0m \u001b[0m_values_from_object\u001b[0m\u001b[0;34m(\u001b[0m\u001b[0mindexer\u001b[0m\u001b[0;34m)\u001b[0m\u001b[0;34m\u001b[0m\u001b[0m\n",
      "\u001b[0;31mKeyError\u001b[0m: \"Index(['glasgow_score'], dtype='object') not in index\""
     ]
    }
   ],
   "source": [
    "sorted(list(zip(total_input, clf.feature_importances_)), \n",
    "       key=lambda x :x[1], reverse=True)[:5]"
   ]
  },
  {
   "cell_type": "markdown",
   "metadata": {},
   "source": [
    "### Confusion matrix"
   ]
  },
  {
   "cell_type": "code",
   "execution_count": 24,
   "metadata": {},
   "outputs": [
    {
     "ename": "NameError",
     "evalue": "name 'y' is not defined",
     "output_type": "error",
     "traceback": [
      "\u001b[0;31m---------------------------------------------------------------------------\u001b[0m",
      "\u001b[0;31mNameError\u001b[0m                                 Traceback (most recent call last)",
      "\u001b[0;32m<ipython-input-24-a4ade1e4f2f2>\u001b[0m in \u001b[0;36m<module>\u001b[0;34m()\u001b[0m\n\u001b[0;32m----> 1\u001b[0;31m \u001b[0mclf\u001b[0m\u001b[0;34m.\u001b[0m\u001b[0mfit\u001b[0m\u001b[0;34m(\u001b[0m\u001b[0mtrain_df\u001b[0m\u001b[0;34m[\u001b[0m\u001b[0mfeatures\u001b[0m\u001b[0;34m]\u001b[0m\u001b[0;34m,\u001b[0m \u001b[0my\u001b[0m\u001b[0;34m)\u001b[0m\u001b[0;34m\u001b[0m\u001b[0m\n\u001b[0m\u001b[1;32m      2\u001b[0m \u001b[0mpredictions\u001b[0m \u001b[0;34m=\u001b[0m \u001b[0mclf\u001b[0m\u001b[0;34m.\u001b[0m\u001b[0mpredict\u001b[0m\u001b[0;34m(\u001b[0m\u001b[0mtest_df\u001b[0m\u001b[0;34m[\u001b[0m\u001b[0mfeatures\u001b[0m\u001b[0;34m]\u001b[0m\u001b[0;34m)\u001b[0m\u001b[0;34m\u001b[0m\u001b[0m\n\u001b[1;32m      3\u001b[0m \u001b[0;34m\u001b[0m\u001b[0m\n\u001b[1;32m      4\u001b[0m pd.crosstab(y_test, \n\u001b[1;32m      5\u001b[0m             \u001b[0mpredictions\u001b[0m\u001b[0;34m,\u001b[0m\u001b[0;34m\u001b[0m\u001b[0m\n",
      "\u001b[0;31mNameError\u001b[0m: name 'y' is not defined"
     ]
    }
   ],
   "source": [
    "clf.fit(train_df[features], y)\n",
    "predictions = clf.predict(test_df[features])\n",
    "\n",
    "pd.crosstab(y_test, \n",
    "            predictions, \n",
    "            rownames=['True expire_flag'], \n",
    "            colnames=['Predicted expire_flag'])"
   ]
  },
  {
   "cell_type": "code",
   "execution_count": null,
   "metadata": {
    "collapsed": true
   },
   "outputs": [],
   "source": []
  }
 ],
 "metadata": {
  "kernelspec": {
   "display_name": "Python 2",
   "language": "python",
   "name": "python2"
  },
  "language_info": {
   "codemirror_mode": {
    "name": "ipython",
    "version": 3
   },
   "file_extension": ".py",
   "mimetype": "text/x-python",
   "name": "python",
   "nbconvert_exporter": "python",
   "pygments_lexer": "ipython3",
   "version": "3.5.2"
  }
 },
 "nbformat": 4,
 "nbformat_minor": 2
}
