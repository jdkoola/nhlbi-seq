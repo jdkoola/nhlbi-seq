{
 "cells": [
  {
   "cell_type": "markdown",
   "metadata": {},
   "source": [
    "# Logistic Regression Baseline\n",
    "### Predicts MIMIC-III ICU patient mortality given the first 24 hours"
   ]
  },
  {
   "cell_type": "code",
   "execution_count": 1,
   "metadata": {},
   "outputs": [
    {
     "name": "stderr",
     "output_type": "stream",
     "text": [
      "/usr/local/lib/python3.5/dist-packages/sklearn/cross_validation.py:41: DeprecationWarning: This module was deprecated in version 0.18 in favor of the model_selection module into which all the refactored classes and functions are moved. Also note that the interface of the new CV iterators are different from that of this module. This module will be removed in 0.20.\n",
      "  \"This module will be removed in 0.20.\", DeprecationWarning)\n"
     ]
    }
   ],
   "source": [
    "from sklearn.linear_model import LogisticRegressionCV, Lasso, LassoCV, LogisticRegression\n",
    "# from statsmodels.discrete.discrete_model import Logit\n",
    "from sklearn import cross_validation\n",
    "from sklearn.metrics import accuracy_score, f1_score, recall_score, precision_score, confusion_matrix, roc_curve, auc, brier_score_loss\n",
    "from sklearn.model_selection import StratifiedKFold\n",
    "\n",
    "import pandas as pd\n",
    "import numpy as np\n",
    "\n",
    "import matplotlib.pyplot as plt\n",
    "import seaborn as sns\n",
    "from random import shuffle\n",
    "\n",
    "# fix random seed for reproducibility\n",
    "np.random.seed(7)\n",
    "\n",
    "%matplotlib inline"
   ]
  },
  {
   "cell_type": "code",
   "execution_count": 2,
   "metadata": {
    "collapsed": true
   },
   "outputs": [],
   "source": [
    "import sys\n",
    "sys.path.append('/usr/local/lib/python2.7/dist-packages/')\n",
    "\n",
    "import dbconfig as cfg\n",
    "from sqlalchemy import create_engine\n",
    "\n",
    "engine = create_engine('mysql+pymysql://{}:{}@{}:3306/mimic'.format(cfg.mysql['user'], cfg.mysql['password'],\n",
    "                                                                cfg.mysql['host']), echo=False)"
   ]
  },
  {
   "cell_type": "markdown",
   "metadata": {},
   "source": [
    "### Load data"
   ]
  },
  {
   "cell_type": "code",
   "execution_count": 3,
   "metadata": {},
   "outputs": [
    {
     "data": {
      "text/html": [
       "<div>\n",
       "<style>\n",
       "    .dataframe thead tr:only-child th {\n",
       "        text-align: right;\n",
       "    }\n",
       "\n",
       "    .dataframe thead th {\n",
       "        text-align: left;\n",
       "    }\n",
       "\n",
       "    .dataframe tbody tr th {\n",
       "        vertical-align: top;\n",
       "    }\n",
       "</style>\n",
       "<table border=\"1\" class=\"dataframe\">\n",
       "  <thead>\n",
       "    <tr style=\"text-align: right;\">\n",
       "      <th></th>\n",
       "      <th>lab_hemoglobin</th>\n",
       "      <th>lab_monocyte</th>\n",
       "      <th>lactate_dh</th>\n",
       "      <th>lab_eosinophil</th>\n",
       "      <th>lab_glucose</th>\n",
       "      <th>lab_ck</th>\n",
       "      <th>lab_basophils</th>\n",
       "      <th>troponin_t</th>\n",
       "      <th>sodium_whole_blood</th>\n",
       "      <th>art_dia</th>\n",
       "      <th>resp_pattern</th>\n",
       "      <th>bp_dia</th>\n",
       "      <th>chart_temp</th>\n",
       "      <th>art_mean</th>\n",
       "      <th>bp_sys</th>\n",
       "      <th>art_sys</th>\n",
       "      <th>cvp</th>\n",
       "      <th>HOSPITAL_EXPIRE_FLAG</th>\n",
       "    </tr>\n",
       "    <tr>\n",
       "      <th>SUBJECT_ID</th>\n",
       "      <th></th>\n",
       "      <th></th>\n",
       "      <th></th>\n",
       "      <th></th>\n",
       "      <th></th>\n",
       "      <th></th>\n",
       "      <th></th>\n",
       "      <th></th>\n",
       "      <th></th>\n",
       "      <th></th>\n",
       "      <th></th>\n",
       "      <th></th>\n",
       "      <th></th>\n",
       "      <th></th>\n",
       "      <th></th>\n",
       "      <th></th>\n",
       "      <th></th>\n",
       "      <th></th>\n",
       "    </tr>\n",
       "  </thead>\n",
       "  <tbody>\n",
       "    <tr>\n",
       "      <th>3</th>\n",
       "      <td>0.0769231</td>\n",
       "      <td>0.0641026</td>\n",
       "      <td>-0.000482413</td>\n",
       "      <td>0</td>\n",
       "      <td>0.0322581</td>\n",
       "      <td>0.000836092</td>\n",
       "      <td>0</td>\n",
       "      <td>-0.000334448</td>\n",
       "      <td>0.781145</td>\n",
       "      <td>0.000171725</td>\n",
       "      <td>0</td>\n",
       "      <td>0</td>\n",
       "      <td>0.889908</td>\n",
       "      <td>0</td>\n",
       "      <td>0</td>\n",
       "      <td>0.0260664</td>\n",
       "      <td>0.22</td>\n",
       "      <td>0</td>\n",
       "    </tr>\n",
       "    <tr>\n",
       "      <th>4</th>\n",
       "      <td>0</td>\n",
       "      <td>0.025641</td>\n",
       "      <td>0.00406605</td>\n",
       "      <td>0</td>\n",
       "      <td>-0.0752688</td>\n",
       "      <td>-1.12479e-05</td>\n",
       "      <td>0</td>\n",
       "      <td>-0.000334448</td>\n",
       "      <td>-0.0213244</td>\n",
       "      <td>0.000171725</td>\n",
       "      <td>0</td>\n",
       "      <td>0</td>\n",
       "      <td>0.899083</td>\n",
       "      <td>0</td>\n",
       "      <td>0</td>\n",
       "      <td>0.0260664</td>\n",
       "      <td>0</td>\n",
       "      <td>0</td>\n",
       "    </tr>\n",
       "    <tr>\n",
       "      <th>6</th>\n",
       "      <td>0.0692308</td>\n",
       "      <td>0.0128205</td>\n",
       "      <td>-0.000482413</td>\n",
       "      <td>0</td>\n",
       "      <td>-0.0752688</td>\n",
       "      <td>-1.12479e-05</td>\n",
       "      <td>0</td>\n",
       "      <td>-0.000334448</td>\n",
       "      <td>0.736251</td>\n",
       "      <td>0.000171725</td>\n",
       "      <td>0</td>\n",
       "      <td>0</td>\n",
       "      <td>0.889908</td>\n",
       "      <td>0</td>\n",
       "      <td>0</td>\n",
       "      <td>0.0260664</td>\n",
       "      <td>0.24</td>\n",
       "      <td>0</td>\n",
       "    </tr>\n",
       "    <tr>\n",
       "      <th>9</th>\n",
       "      <td>0.107692</td>\n",
       "      <td>0</td>\n",
       "      <td>-0.000482413</td>\n",
       "      <td>0</td>\n",
       "      <td>-0.0752688</td>\n",
       "      <td>-1.12479e-05</td>\n",
       "      <td>0</td>\n",
       "      <td>-0.000334448</td>\n",
       "      <td>0.753086</td>\n",
       "      <td>0.000171725</td>\n",
       "      <td>0</td>\n",
       "      <td>0</td>\n",
       "      <td>0.899083</td>\n",
       "      <td>0</td>\n",
       "      <td>0</td>\n",
       "      <td>0.0260664</td>\n",
       "      <td>0</td>\n",
       "      <td>1</td>\n",
       "    </tr>\n",
       "    <tr>\n",
       "      <th>11</th>\n",
       "      <td>0</td>\n",
       "      <td>0</td>\n",
       "      <td>-0.000482413</td>\n",
       "      <td>0</td>\n",
       "      <td>-0.0752688</td>\n",
       "      <td>-1.12479e-05</td>\n",
       "      <td>0</td>\n",
       "      <td>-0.000334448</td>\n",
       "      <td>-0.0213244</td>\n",
       "      <td>0.000171725</td>\n",
       "      <td>0</td>\n",
       "      <td>0</td>\n",
       "      <td>0.899083</td>\n",
       "      <td>0</td>\n",
       "      <td>0</td>\n",
       "      <td>0.0260664</td>\n",
       "      <td>0</td>\n",
       "      <td>0</td>\n",
       "    </tr>\n",
       "  </tbody>\n",
       "</table>\n",
       "</div>"
      ],
      "text/plain": [
       "           lab_hemoglobin lab_monocyte   lactate_dh lab_eosinophil  \\\n",
       "SUBJECT_ID                                                           \n",
       "3               0.0769231    0.0641026 -0.000482413              0   \n",
       "4                       0     0.025641   0.00406605              0   \n",
       "6               0.0692308    0.0128205 -0.000482413              0   \n",
       "9                0.107692            0 -0.000482413              0   \n",
       "11                      0            0 -0.000482413              0   \n",
       "\n",
       "           lab_glucose       lab_ck lab_basophils   troponin_t  \\\n",
       "SUBJECT_ID                                                       \n",
       "3            0.0322581  0.000836092             0 -0.000334448   \n",
       "4           -0.0752688 -1.12479e-05             0 -0.000334448   \n",
       "6           -0.0752688 -1.12479e-05             0 -0.000334448   \n",
       "9           -0.0752688 -1.12479e-05             0 -0.000334448   \n",
       "11          -0.0752688 -1.12479e-05             0 -0.000334448   \n",
       "\n",
       "           sodium_whole_blood      art_dia resp_pattern bp_dia chart_temp  \\\n",
       "SUBJECT_ID                                                                  \n",
       "3                    0.781145  0.000171725            0      0   0.889908   \n",
       "4                  -0.0213244  0.000171725            0      0   0.899083   \n",
       "6                    0.736251  0.000171725            0      0   0.889908   \n",
       "9                    0.753086  0.000171725            0      0   0.899083   \n",
       "11                 -0.0213244  0.000171725            0      0   0.899083   \n",
       "\n",
       "           art_mean bp_sys    art_sys   cvp  HOSPITAL_EXPIRE_FLAG  \n",
       "SUBJECT_ID                                                         \n",
       "3                 0      0  0.0260664  0.22                     0  \n",
       "4                 0      0  0.0260664     0                     0  \n",
       "6                 0      0  0.0260664  0.24                     0  \n",
       "9                 0      0  0.0260664     0                     1  \n",
       "11                0      0  0.0260664     0                     0  "
      ]
     },
     "execution_count": 3,
     "metadata": {},
     "output_type": "execute_result"
    }
   ],
   "source": [
    "mimic_df = pd.read_pickle('/home/andrea/data/mimic_nontimeseries_normalized')\n",
    "# mimic_df = pd.get_dummies(mimic_df, columns=['GENDER', 'ADMISSION_LOCATION', 'ADMISSION_TYPE'])\n",
    "label_col = mimic_df['HOSPITAL_EXPIRE_FLAG']\n",
    "del mimic_df['HOSPITAL_EXPIRE_FLAG']\n",
    "del mimic_df['AGE']\n",
    "del mimic_df['GENDER']\n",
    "del mimic_df['ADMISSION_LOCATION']\n",
    "del mimic_df['ADMISSION_TYPE']\n",
    "del mimic_df['glasgow_score']\n",
    "del mimic_df['riker_sas']\n",
    "del mimic_df['eye_open']\n",
    "mimic_df['HOSPITAL_EXPIRE_FLAG'] = label_col\n",
    "mimic_df.head()"
   ]
  },
  {
   "cell_type": "markdown",
   "metadata": {},
   "source": [
    "### Shuffle and split into train/test datasets"
   ]
  },
  {
   "cell_type": "code",
   "execution_count": 4,
   "metadata": {},
   "outputs": [
    {
     "name": "stdout",
     "output_type": "stream",
     "text": [
      "26983 observations in the training data\n",
      "11565 observations in the test data\n"
     ]
    },
    {
     "name": "stderr",
     "output_type": "stream",
     "text": [
      "/usr/local/lib/python3.5/dist-packages/ipykernel_launcher.py:20: DeprecationWarning: \n",
      ".ix is deprecated. Please use\n",
      ".loc for label based indexing or\n",
      ".iloc for positional indexing\n",
      "\n",
      "See the documentation here:\n",
      "http://pandas.pydata.org/pandas-docs/stable/indexing.html#ix-indexer-is-deprecated\n"
     ]
    }
   ],
   "source": [
    "features = mimic_df.columns[:-1]\n",
    "\n",
    "total_input = mimic_df[features].as_matrix()\n",
    "total_labels = mimic_df['HOSPITAL_EXPIRE_FLAG'].values\n",
    "\n",
    "def shuffle_split(l, train=0.6, test=0.2, val=0.2):\n",
    "    shuffle(l)\n",
    "    if val == 0:\n",
    "        train = 0.7\n",
    "    train_index = int(len(l)*train)\n",
    "    test_index = train_index + int(len(l)*test)\n",
    "    if val == 0:\n",
    "        return l[:train_index], l[train_index:]\n",
    "    return l[:train_index], l[train_index:test_index], l[test_index:]\n",
    "\n",
    "\n",
    "patient_list = mimic_df.index.values\n",
    "train, test = shuffle_split(patient_list, val=0)\n",
    "\n",
    "train_df = mimic_df.ix[train]\n",
    "test_df = mimic_df.ix[test]\n",
    "\n",
    "features = train_df.columns[:-1]\n",
    "\n",
    "X_train = train_df[features]\n",
    "X_test = test_df[features]\n",
    "\n",
    "y_train = train_df['HOSPITAL_EXPIRE_FLAG'].values\n",
    "y_test = test_df['HOSPITAL_EXPIRE_FLAG'].values\n",
    "\n",
    "print('{} observations in the training data'.format(len(train_df.index.values)))\n",
    "print('{} observations in the test data'.format(len(test_df.index.values)))"
   ]
  },
  {
   "cell_type": "code",
   "execution_count": 5,
   "metadata": {
    "collapsed": true
   },
   "outputs": [],
   "source": [
    "# for i in y_test:\n",
    "#     print(y_test[i])\n",
    "\n",
    "\n",
    "# l = Logit(np.array(X_train),np.array(y_train))\n",
    "# r = l.fit()"
   ]
  },
  {
   "cell_type": "markdown",
   "metadata": {},
   "source": [
    "### Hyperparameter selection"
   ]
  },
  {
   "cell_type": "code",
   "execution_count": 9,
   "metadata": {},
   "outputs": [
    {
     "data": {
      "text/plain": [
       "0.00012720723659849934"
      ]
     },
     "execution_count": 9,
     "metadata": {},
     "output_type": "execute_result"
    }
   ],
   "source": [
    "lasso = LassoCV()\n",
    "lasso.fit(X_train,y_train)\n",
    "alpha = lasso.alpha_\n",
    "alpha"
   ]
  },
  {
   "cell_type": "markdown",
   "metadata": {},
   "source": [
    "### Train/test model"
   ]
  },
  {
   "cell_type": "code",
   "execution_count": 10,
   "metadata": {
    "collapsed": true
   },
   "outputs": [],
   "source": [
    "k = 10\n",
    "kfold = StratifiedKFold(n_splits=k, shuffle=True, random_state=7)\n",
    "clf = Lasso(alpha=alpha, random_state=7)"
   ]
  },
  {
   "cell_type": "code",
   "execution_count": 12,
   "metadata": {},
   "outputs": [],
   "source": [
    "pred_vals = []\n",
    "true_labels = []\n",
    "run_ids = []\n",
    "\n",
    "fpr_vals = []\n",
    "tpr_vals = []\n",
    "thresholds = []\n",
    "auc_vals = []\n",
    "\n",
    "count = 1\n",
    "for train, test in kfold.split(total_input, total_labels):\n",
    "    pred = clf.fit(total_input[train], total_labels[train]).predict(total_input[test])\n",
    "    \n",
    "    pred_vals.append(pred)\n",
    "    true_labels.append(total_labels[test])\n",
    "    run_ids.append(['alpha={}, fold={}'.format(alpha,count)]*len(total_input[test]))\n",
    "    \n",
    "    count += 1"
   ]
  },
  {
   "cell_type": "code",
   "execution_count": 13,
   "metadata": {
    "collapsed": true
   },
   "outputs": [],
   "source": [
    "def flatten(l):\n",
    "    return [item for sublist in l for item in sublist]"
   ]
  },
  {
   "cell_type": "code",
   "execution_count": 15,
   "metadata": {},
   "outputs": [
    {
     "data": {
      "text/html": [
       "<div>\n",
       "<style>\n",
       "    .dataframe thead tr:only-child th {\n",
       "        text-align: right;\n",
       "    }\n",
       "\n",
       "    .dataframe thead th {\n",
       "        text-align: left;\n",
       "    }\n",
       "\n",
       "    .dataframe tbody tr th {\n",
       "        vertical-align: top;\n",
       "    }\n",
       "</style>\n",
       "<table border=\"1\" class=\"dataframe\">\n",
       "  <thead>\n",
       "    <tr style=\"text-align: right;\">\n",
       "      <th></th>\n",
       "      <th>pred_val</th>\n",
       "      <th>true_label</th>\n",
       "      <th>run_ids</th>\n",
       "    </tr>\n",
       "  </thead>\n",
       "  <tbody>\n",
       "    <tr>\n",
       "      <th>0</th>\n",
       "      <td>0.064832</td>\n",
       "      <td>0</td>\n",
       "      <td>alpha=0.00012720723659849934, fold=1</td>\n",
       "    </tr>\n",
       "    <tr>\n",
       "      <th>1</th>\n",
       "      <td>0.114160</td>\n",
       "      <td>0</td>\n",
       "      <td>alpha=0.00012720723659849934, fold=1</td>\n",
       "    </tr>\n",
       "    <tr>\n",
       "      <th>2</th>\n",
       "      <td>0.104709</td>\n",
       "      <td>0</td>\n",
       "      <td>alpha=0.00012720723659849934, fold=1</td>\n",
       "    </tr>\n",
       "    <tr>\n",
       "      <th>3</th>\n",
       "      <td>0.114625</td>\n",
       "      <td>0</td>\n",
       "      <td>alpha=0.00012720723659849934, fold=1</td>\n",
       "    </tr>\n",
       "    <tr>\n",
       "      <th>4</th>\n",
       "      <td>0.088360</td>\n",
       "      <td>0</td>\n",
       "      <td>alpha=0.00012720723659849934, fold=1</td>\n",
       "    </tr>\n",
       "  </tbody>\n",
       "</table>\n",
       "</div>"
      ],
      "text/plain": [
       "   pred_val  true_label                               run_ids\n",
       "0  0.064832           0  alpha=0.00012720723659849934, fold=1\n",
       "1  0.114160           0  alpha=0.00012720723659849934, fold=1\n",
       "2  0.104709           0  alpha=0.00012720723659849934, fold=1\n",
       "3  0.114625           0  alpha=0.00012720723659849934, fold=1\n",
       "4  0.088360           0  alpha=0.00012720723659849934, fold=1"
      ]
     },
     "execution_count": 15,
     "metadata": {},
     "output_type": "execute_result"
    }
   ],
   "source": [
    "results_df = pd.DataFrame()\n",
    "results_df['pred_val'] = flatten(pred_vals)\n",
    "results_df['true_label'] = flatten(true_labels)\n",
    "results_df['run_ids'] = flatten(run_ids)\n",
    "results_df.head()"
   ]
  },
  {
   "cell_type": "markdown",
   "metadata": {},
   "source": [
    "### Write results to RDS\n"
   ]
  },
  {
   "cell_type": "code",
   "execution_count": 16,
   "metadata": {
    "collapsed": true
   },
   "outputs": [],
   "source": [
    "results_df.to_sql(name='lasso_cv_results', con=engine, index=False, if_exists='replace')"
   ]
  },
  {
   "cell_type": "markdown",
   "metadata": {},
   "source": [
    "### Evaluate results"
   ]
  },
  {
   "cell_type": "code",
   "execution_count": 17,
   "metadata": {},
   "outputs": [
    {
     "data": {
      "text/html": [
       "<div>\n",
       "<style>\n",
       "    .dataframe thead tr:only-child th {\n",
       "        text-align: right;\n",
       "    }\n",
       "\n",
       "    .dataframe thead th {\n",
       "        text-align: left;\n",
       "    }\n",
       "\n",
       "    .dataframe tbody tr th {\n",
       "        vertical-align: top;\n",
       "    }\n",
       "</style>\n",
       "<table border=\"1\" class=\"dataframe\">\n",
       "  <thead>\n",
       "    <tr style=\"text-align: right;\">\n",
       "      <th></th>\n",
       "      <th>pred_val</th>\n",
       "      <th>true_label</th>\n",
       "      <th>run_ids</th>\n",
       "    </tr>\n",
       "  </thead>\n",
       "  <tbody>\n",
       "    <tr>\n",
       "      <th>0</th>\n",
       "      <td>0.064832</td>\n",
       "      <td>0</td>\n",
       "      <td>alpha=0.00012720723659849934, fold=1</td>\n",
       "    </tr>\n",
       "    <tr>\n",
       "      <th>1</th>\n",
       "      <td>0.114160</td>\n",
       "      <td>0</td>\n",
       "      <td>alpha=0.00012720723659849934, fold=1</td>\n",
       "    </tr>\n",
       "    <tr>\n",
       "      <th>2</th>\n",
       "      <td>0.104709</td>\n",
       "      <td>0</td>\n",
       "      <td>alpha=0.00012720723659849934, fold=1</td>\n",
       "    </tr>\n",
       "    <tr>\n",
       "      <th>3</th>\n",
       "      <td>0.114625</td>\n",
       "      <td>0</td>\n",
       "      <td>alpha=0.00012720723659849934, fold=1</td>\n",
       "    </tr>\n",
       "    <tr>\n",
       "      <th>4</th>\n",
       "      <td>0.088360</td>\n",
       "      <td>0</td>\n",
       "      <td>alpha=0.00012720723659849934, fold=1</td>\n",
       "    </tr>\n",
       "  </tbody>\n",
       "</table>\n",
       "</div>"
      ],
      "text/plain": [
       "   pred_val  true_label                               run_ids\n",
       "0  0.064832           0  alpha=0.00012720723659849934, fold=1\n",
       "1  0.114160           0  alpha=0.00012720723659849934, fold=1\n",
       "2  0.104709           0  alpha=0.00012720723659849934, fold=1\n",
       "3  0.114625           0  alpha=0.00012720723659849934, fold=1\n",
       "4  0.088360           0  alpha=0.00012720723659849934, fold=1"
      ]
     },
     "execution_count": 17,
     "metadata": {},
     "output_type": "execute_result"
    }
   ],
   "source": [
    "results_df = pd.read_sql_table('lasso_cv_results', con=engine)\n",
    "results_df.head()"
   ]
  },
  {
   "cell_type": "code",
   "execution_count": 23,
   "metadata": {},
   "outputs": [
    {
     "name": "stdout",
     "output_type": "stream",
     "text": [
      "# of vals skipped: 1\n",
      "0.59399901883 0.098007481562\n"
     ]
    }
   ],
   "source": [
    "from collections import defaultdict\n",
    "n_folds = set(results_df.run_ids.values)\n",
    "\n",
    "auc_vals = []\n",
    "brier_scores = []\n",
    "errors = []\n",
    "\n",
    "for fold in n_folds:\n",
    "    temp_df = results_df.loc[results_df['run_ids']==fold]\n",
    "#     pred_vals = temp_df.pred_val.values\n",
    "    pred_vals = temp_df['pred_val'].values\n",
    "    true_vals = temp_df.true_label.values\n",
    "    fpr, tpr, threshold = roc_curve(true_vals, pred_vals)\n",
    "    auc_vals.append(auc(fpr,tpr))\n",
    "    try:\n",
    "        brier_scores.append(brier_score_loss(true_vals, pred_vals))\n",
    "    except:\n",
    "#         print(pred_vals)\n",
    "        errors.append(pred_vals)\n",
    "\n",
    "print('# of vals skipped: {}'.format(len(errors)))\n",
    "print(np.mean(auc_vals),np.mean(brier_scores))"
   ]
  },
  {
   "cell_type": "code",
   "execution_count": null,
   "metadata": {
    "collapsed": true
   },
   "outputs": [],
   "source": []
  }
 ],
 "metadata": {
  "kernelspec": {
   "display_name": "Python 2",
   "language": "python",
   "name": "python2"
  },
  "language_info": {
   "codemirror_mode": {
    "name": "ipython",
    "version": 3
   },
   "file_extension": ".py",
   "mimetype": "text/x-python",
   "name": "python",
   "nbconvert_exporter": "python",
   "pygments_lexer": "ipython3",
   "version": "3.5.2"
  }
 },
 "nbformat": 4,
 "nbformat_minor": 2
}
